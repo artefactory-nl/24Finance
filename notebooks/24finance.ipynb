{
 "cells": [
  {
   "cell_type": "code",
   "execution_count": null,
   "metadata": {},
   "outputs": [],
   "source": [
    "# ! sh ../bin/install_requirements_databricks.sh\n",
    "# dbutils.library.restartPython()"
   ]
  },
  {
   "cell_type": "markdown",
   "metadata": {},
   "source": [
    "#### Import libraries, modules, and config"
   ]
  },
  {
   "cell_type": "code",
   "execution_count": null,
   "metadata": {},
   "outputs": [],
   "source": [
    "import sys\n",
    "import os\n",
    "\n",
    "cwd = os.getcwd()\n",
    "repo_path = os.path.abspath(os.path.join(cwd, '..'))\n",
    "if repo_path not in sys.path:\n",
    "    sys.path.append(repo_path)"
   ]
  },
  {
   "cell_type": "code",
   "execution_count": null,
   "metadata": {},
   "outputs": [],
   "source": [
    "os.environ[\"TOKENIZERS_PARALLELISM\"] = \"false\""
   ]
  },
  {
   "cell_type": "code",
   "execution_count": null,
   "metadata": {
    "application/vnd.databricks.v1+cell": {
     "cellMetadata": {
      "byteLimit": 2048000,
      "rowLimit": 10000
     },
     "inputWidgets": {},
     "nuid": "626d72cc-b6d9-4725-9089-d719683a90f6",
     "showTitle": false,
     "title": ""
    }
   },
   "outputs": [],
   "source": [
    "from lib.llm.model import (\n",
    "    model_api_client,\n",
    "    make_news_impact_on_portfolio,\n",
    "    make_reasons_of_impact_on_portfolio,\n",
    "    make_title_from_news,\n",
    "    make_summary_from_news,\n",
    "    make_news_impact_on_commodities,\n",
    "    make_reasons_of_impact_on_commodities,\n",
    ")\n",
    "from lib.vector.querying import retrieve_from_news\n",
    "import pandas as pd\n",
    "import tomli\n",
    "import chromadb as db \n",
    "from langchain_chroma import Chroma\n",
    "from lib.embedding.custom_embedding import CustomHuggingFaceEmbeddings"
   ]
  },
  {
   "cell_type": "code",
   "execution_count": null,
   "metadata": {},
   "outputs": [],
   "source": [
    "with open(os.path.join(os.path.dirname(os.path.abspath(\"\")), \"config\", \"config.toml\"), \"rb\") as f:\n",
    "    config = tomli.load(f)"
   ]
  },
  {
   "cell_type": "markdown",
   "metadata": {},
   "source": [
    "#### Connect to DBRX & Load Embdedding model"
   ]
  },
  {
   "cell_type": "code",
   "execution_count": null,
   "metadata": {},
   "outputs": [],
   "source": [
    "llm_client = model_api_client(config['models']['llm_model_api'])\n",
    "embedding_model = CustomHuggingFaceEmbeddings(model_name=config['models']['embdelling_model_name'])  # sentence-transformers/all-MiniLM-l6-v2"
   ]
  },
  {
   "cell_type": "markdown",
   "metadata": {},
   "source": [
    "#### Load User Portfolio & Commodities"
   ]
  },
  {
   "cell_type": "code",
   "execution_count": null,
   "metadata": {},
   "outputs": [],
   "source": [
    "if config['general'][\"UPDATE_USER_PORTFOLIO\"]:\n",
    "    user_portfolio_df = pd.read_csv(os.path.join(os.path.dirname(os.path.abspath(\"\")), config[\"data\"][\"location\"], config[\"data\"]['stocks'][\"location\"],config[\"data\"]['stocks'][\"filename\"])).sample(15)['ticker'].rename('ticker').reset_index(drop=True)\n",
    "    user_portfolio_df.to_csv(os.path.join(os.path.dirname(os.path.abspath(\"\")), config[\"data\"][\"location\"], config[\"data\"]['user'][\"location\"], config[\"data\"]['user']['user_portfolio'][\"location\"],config[\"data\"]['user']['user_portfolio'][\"filename\"]), index=False)\n",
    "else:\n",
    "    user_portfolio_df = pd.read_csv(os.path.join(os.path.dirname(os.path.abspath(\"\")), config[\"data\"][\"location\"], config[\"data\"]['user'][\"location\"],config[\"data\"]['user']['user_portfolio'][\"location\"],config[\"data\"]['user']['user_portfolio'][\"filename\"]))['ticker']"
   ]
  },
  {
   "cell_type": "code",
   "execution_count": null,
   "metadata": {},
   "outputs": [],
   "source": [
    "commodities_df = pd.read_csv(os.path.join(repo_path, config[\"data\"][\"location\"], config[\"data\"]['user'][\"location\"], config[\"data\"]['user']['commodities'][\"location\"],config[\"data\"]['user']['commodities'][\"filename\"]))"
   ]
  },
  {
   "cell_type": "markdown",
   "metadata": {},
   "source": [
    "#### Connect to Vector Databases\n",
    "- stocks\n",
    "- news"
   ]
  },
  {
   "cell_type": "code",
   "execution_count": null,
   "metadata": {},
   "outputs": [],
   "source": [
    "stocks_collection_name = config[\"data\"]['vector_db'][\"stocks\"][\"stocks_collection_name\"]\n",
    "stocks_db_path = os.path.join(os.path.dirname(os.path.abspath(\"\")), config[\"data\"][\"location\"], config[\"data\"]['vector_db'][\"location\"],config[\"data\"]['vector_db'][\"stocks\"][\"location\"])\n",
    "stocks_chroma_client = db.PersistentClient(path=stocks_db_path)\n",
    "stocks_langchain_chroma = Chroma(\n",
    "    client=stocks_chroma_client,\n",
    "    collection_name= stocks_collection_name,\n",
    "    embedding_function=embedding_model,\n",
    ")"
   ]
  },
  {
   "cell_type": "code",
   "execution_count": null,
   "metadata": {},
   "outputs": [],
   "source": [
    "news_collection_name = config[\"data\"]['vector_db'][\"news\"][\"news_collection_name\"]\n",
    "news_db_path = os.path.join(os.path.dirname(os.path.abspath(\"\")), config[\"data\"][\"location\"], config[\"data\"]['vector_db'][\"location\"],config[\"data\"]['vector_db'][\"news\"][\"location\"])\n",
    "news_chroma_client = db.PersistentClient(path=news_db_path)\n",
    "news_langchain_chroma = Chroma(\n",
    "    client=news_chroma_client,\n",
    "    collection_name= news_collection_name,\n",
    "    embedding_function=embedding_model,\n",
    ")"
   ]
  },
  {
   "cell_type": "markdown",
   "metadata": {},
   "source": [
    "#### Retrive stocks data to enrich user's portfolio data"
   ]
  },
  {
   "cell_type": "code",
   "execution_count": null,
   "metadata": {},
   "outputs": [],
   "source": [
    "user_stocks = []\n",
    "for ticker in user_portfolio_df.to_list():\n",
    "    filter_criteria = {'ticker': {'$eq': ticker}}\n",
    "    retriever = stocks_langchain_chroma.as_retriever(search_kwargs={\"k\": 1, \"filter\": filter_criteria})\n",
    "    result = retriever.invoke(\"\")[0].metadata\n",
    "    user_stocks.append(result)\n",
    "\n",
    "user_stocks_df = pd.DataFrame(user_stocks)"
   ]
  },
  {
   "cell_type": "markdown",
   "metadata": {},
   "source": [
    "#### Define criteria for information retrieval"
   ]
  },
  {
   "cell_type": "code",
   "execution_count": null,
   "metadata": {},
   "outputs": [],
   "source": [
    "days_threshold = config[\"rag\"]['news'][\"news_date_threshold\"]\n",
    "top_articles_k = config[\"rag\"]['news'][\"top_articles_k\"]\n",
    "timestamp_threshold = int((pd.Timestamp.utcnow() - pd.Timedelta(days=days_threshold)).timestamp())\n",
    "filter_criteria = {'Published': {'$gte': timestamp_threshold}}"
   ]
  },
  {
   "cell_type": "markdown",
   "metadata": {},
   "source": [
    "#### Retrive most relevant news concerning portfolio"
   ]
  },
  {
   "cell_type": "code",
   "execution_count": null,
   "metadata": {},
   "outputs": [],
   "source": [
    "match_list = []\n",
    "\n",
    "for i, stock in user_stocks_df.iterrows():\n",
    "        match_list.append(pd.DataFrame(retrieve_from_news(stock, news_langchain_chroma, mode='stocks', reference_col= 'ticker', filters=filter_criteria, top_k_results=top_articles_k)))\n",
    "news_x_portfolio_df = pd.concat(match_list, axis=0).merge(user_stocks_df, on='ticker', how='inner')"
   ]
  },
  {
   "cell_type": "markdown",
   "metadata": {},
   "source": [
    "#### Retrive most relevant news concerning commodities"
   ]
  },
  {
   "cell_type": "code",
   "execution_count": null,
   "metadata": {},
   "outputs": [],
   "source": [
    "match_list = []\n",
    "\n",
    "for i, commodity in commodities_df.iterrows():\n",
    "        match_list.append(pd.DataFrame(retrieve_from_news(commodity, news_langchain_chroma, mode='commodities', reference_col= 'name', filters=filter_criteria, top_k_results=top_articles_k)))\n",
    "news_x_commodities_df = pd.concat(match_list, axis=0).merge(commodities_df, on='name', how='inner')"
   ]
  },
  {
   "cell_type": "markdown",
   "metadata": {},
   "source": [
    "#### Understand Impact & Perform financial analysis of news on Portfolio"
   ]
  },
  {
   "cell_type": "code",
   "execution_count": null,
   "metadata": {},
   "outputs": [],
   "source": [
    "news_x_portfolio_df['impact'] = news_x_portfolio_df.apply(lambda row: make_news_impact_on_portfolio(row, llm_client), axis=1)"
   ]
  },
  {
   "cell_type": "code",
   "execution_count": null,
   "metadata": {},
   "outputs": [],
   "source": [
    "news_x_portfolio_df['reasons'] = news_x_portfolio_df.apply(lambda row: make_reasons_of_impact_on_portfolio(row, llm_client), axis=1)"
   ]
  },
  {
   "cell_type": "markdown",
   "metadata": {},
   "source": [
    "#### Understand Impact & Perform financial analysis of news on Commodities"
   ]
  },
  {
   "cell_type": "code",
   "execution_count": null,
   "metadata": {},
   "outputs": [],
   "source": [
    "news_x_commodities_df['impact'] = news_x_commodities_df.apply(lambda row: make_news_impact_on_commodities(row, llm_client), axis=1)"
   ]
  },
  {
   "cell_type": "code",
   "execution_count": null,
   "metadata": {},
   "outputs": [],
   "source": [
    "news_x_commodities_df['reasons'] = news_x_commodities_df.apply(lambda row: make_reasons_of_impact_on_commodities(row, llm_client), axis=1)"
   ]
  },
  {
   "cell_type": "markdown",
   "metadata": {},
   "source": [
    "#### Process news content and title"
   ]
  },
  {
   "cell_type": "code",
   "execution_count": null,
   "metadata": {},
   "outputs": [],
   "source": [
    "news_x_portfolio_df['news_summary'] = news_x_portfolio_df.apply(lambda row: make_summary_from_news(row, llm_client), axis=1)\n",
    "news_x_portfolio_df['news_title'] = news_x_portfolio_df.apply(lambda row: make_title_from_news(row, llm_client), axis=1)"
   ]
  },
  {
   "cell_type": "code",
   "execution_count": null,
   "metadata": {},
   "outputs": [],
   "source": [
    "news_x_portfolio_df['news_title'] = news_x_portfolio_df.apply(lambda row: make_title_from_news(row, llm_client), axis=1)"
   ]
  },
  {
   "cell_type": "code",
   "execution_count": null,
   "metadata": {},
   "outputs": [],
   "source": [
    "news_x_commodities_df['news_summary'] = news_x_commodities_df.apply(lambda row: make_summary_from_news(row, llm_client), axis=1)\n",
    "news_x_commodities_df['news_title'] = news_x_commodities_df.apply(lambda row: make_title_from_news(row, llm_client), axis=1)"
   ]
  },
  {
   "cell_type": "markdown",
   "metadata": {},
   "source": [
    "#### Output Data for Dashboard"
   ]
  },
  {
   "cell_type": "code",
   "execution_count": null,
   "metadata": {},
   "outputs": [],
   "source": [
    "news_x_portfolio_df.to_csv(os.path.join(os.path.dirname(os.path.abspath(\"\")), config[\"data\"][\"location\"], config[\"data\"]['dashboard'][\"location\"],config[\"data\"]['dashboard'][\"filename_portfolio\"]), index=False)"
   ]
  },
  {
   "cell_type": "code",
   "execution_count": null,
   "metadata": {},
   "outputs": [],
   "source": [
    "news_x_commodities_df.to_csv(os.path.join(os.path.dirname(os.path.abspath(\"\")), config[\"data\"][\"location\"], config[\"data\"]['dashboard'][\"location\"],config[\"data\"]['dashboard'][\"filename_commodities\"]), index=False)"
   ]
  },
  {
   "cell_type": "code",
   "execution_count": null,
   "metadata": {},
   "outputs": [],
   "source": [
    "# spark.createDataFrame(news_x_portfolio_df).write.mode(\"overwrite\").saveAsTable(\"default.dashboard\")"
   ]
  }
 ],
 "metadata": {
  "application/vnd.databricks.v1+notebook": {
   "dashboards": [
    {
     "elements": [
      {
       "dashboardResultIndex": 0,
       "elementNUID": "42613a51-0cf2-404e-bfe8-65992b73fd4c",
       "elementType": "command",
       "guid": "b4cff6af-a8ae-4a60-8476-8d71f15108f6",
       "options": {
        "autoScaleImg": false,
        "scale": 0,
        "showTitle": true,
        "title": "Portfolio",
        "titleAlign": "center"
       },
       "position": {
        "height": 6,
        "width": 21,
        "x": 0,
        "y": 0,
        "z": null
       },
       "resultIndex": null
      }
     ],
     "globalVars": {},
     "guid": "",
     "layoutOption": {
      "grid": true,
      "stack": true
     },
     "nuid": "29a4b402-80ea-4a19-bd0c-d26fa44359e9",
     "origId": 3189763343524743,
     "title": "Untitled",
     "version": "DashboardViewV1",
     "width": 1024
    }
   ],
   "language": "python",
   "notebookMetadata": {
    "mostRecentlyExecutedCommandWithImplicitDF": {
     "commandId": 3189763343524742,
     "dataframes": [
      "_sqldf"
     ]
    },
    "pythonIndentUnit": 4
   },
   "notebookName": "Product",
   "widgets": {}
  },
  "kernelspec": {
   "display_name": "24Finance",
   "language": "python",
   "name": "python3"
  },
  "language_info": {
   "codemirror_mode": {
    "name": "ipython",
    "version": 3
   },
   "file_extension": ".py",
   "mimetype": "text/x-python",
   "name": "python",
   "nbconvert_exporter": "python",
   "pygments_lexer": "ipython3",
   "version": "3.10.14"
  }
 },
 "nbformat": 4,
 "nbformat_minor": 0
}
