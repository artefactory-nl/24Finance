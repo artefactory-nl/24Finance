{
 "cells": [
  {
   "cell_type": "code",
   "execution_count": null,
   "metadata": {
    "application/vnd.databricks.v1+cell": {
     "cellMetadata": {
      "byteLimit": 2048000,
      "rowLimit": 10000
     },
     "inputWidgets": {},
     "nuid": "626d72cc-b6d9-4725-9089-d719683a90f6",
     "showTitle": false,
     "title": ""
    }
   },
   "outputs": [],
   "source": [
    "from lib.llm.model import (\n",
    "    model_api_client,\n",
    "    make_impact_from_news,\n",
    "    make_reasons_from_news,\n",
    "    make_operational_countries,\n",
    "    make_summary_from_news,\n",
    ")\n",
    "from lib.scraping.scrap import extract_text_to_dataframe\n",
    "import pandas as pd"
   ]
  },
  {
   "cell_type": "code",
   "execution_count": null,
   "metadata": {},
   "outputs": [],
   "source": [
    "client = model_api_client()"
   ]
  },
  {
   "cell_type": "code",
   "execution_count": null,
   "metadata": {},
   "outputs": [],
   "source": [
    "news_data = spark.sql(\"select * from hive_metastore.default.news_data WHERE Date >= DATE_SUB(CURRENT_DATE(), 7) AND Date <= CURRENT_DATE()\").toPandas().dropna().reset_index(drop=True)\n",
    "stock_df = spark.sql(\"select * from hive_metastore.default.stock_data WHERE stockID is not NULL\").toPandas().dropna().reset_index(drop=True)\n",
    "event_df = spark.sql(\"select * from hive_metastore.default.cameo_event\").toPandas().dropna().reset_index(drop=True)"
   ]
  },
  {
   "cell_type": "code",
   "execution_count": null,
   "metadata": {},
   "outputs": [],
   "source": [
    "stock_df['Countries'] = stock_df.apply(lambda row: make_operational_countries(row, client), axis=1)\n",
    "stock_df = stock_df.explode('Countries')"
   ]
  },
  {
   "cell_type": "code",
   "execution_count": null,
   "metadata": {},
   "outputs": [],
   "source": [
    "filtered_data = pd.merge(news_data, stock_df, left_on=['ActionCountryCode'], right_on=['Countries'], how='inner')\n",
    "filtered_data['EventCode'] = filtered_data['EventCode'].astype(int)\n",
    "event_df['EventCode'] = event_df['EventCode'].astype(int)\n",
    "filtered_data = (\n",
    "    filtered_data.join(event_df, on='EventCode', how='left', rsuffix='r')\n",
    ")\n",
    "filtered_data = filtered_data.loc[filtered_data['NumMentions']>= 50]\n",
    "filtered_data = filtered_data[\n",
    "    ['Date', 'EventId', 'stockID', 'company_name', 'industry', 'Countries', 'ArticleUrl', 'NumMentions', 'EventName', 'AvgTone', 'GoldsteinScale', 'trading_market', 'industry', 'position']\n",
    "    ].reset_index(drop=True)"
   ]
  },
  {
   "cell_type": "code",
   "execution_count": null,
   "metadata": {},
   "outputs": [],
   "source": [
    "news_df_processed = extract_text_to_dataframe(filtered_data, url_column = 'ArticleUrl', output_column = 'news_content')\n",
    "news_df_processed = news_df_processed.loc[(news_df_processed['news_content'] !='\"\"')].reset_index(drop=True)"
   ]
  },
  {
   "cell_type": "code",
   "execution_count": null,
   "metadata": {},
   "outputs": [],
   "source": [
    "news_df_processed['news_summary'] = news_df_processed.apply(lambda row: make_summary_from_news(row, client), axis=1)\n",
    "news_df_processed['impact'] = news_df_processed.apply(lambda row: make_impact_from_news(row, client), axis=1)\n",
    "news_df_processed['reasons'] = news_df_processed.apply(lambda row: make_reasons_from_news(row, client), axis=1)"
   ]
  },
  {
   "cell_type": "code",
   "execution_count": null,
   "metadata": {},
   "outputs": [],
   "source": [
    "news_df_processed.to_csv('news_data_processed.csv', index=False)"
   ]
  },
  {
   "cell_type": "code",
   "execution_count": null,
   "metadata": {},
   "outputs": [],
   "source": [
    "spark.createDataFrame(news_df_processed).write.mode(\"overwrite\").saveAsTable(\"default.output_table_dashboard\")"
   ]
  }
 ],
 "metadata": {
  "application/vnd.databricks.v1+notebook": {
   "dashboards": [
    {
     "elements": [
      {
       "dashboardResultIndex": 0,
       "elementNUID": "42613a51-0cf2-404e-bfe8-65992b73fd4c",
       "elementType": "command",
       "guid": "b4cff6af-a8ae-4a60-8476-8d71f15108f6",
       "options": {
        "autoScaleImg": false,
        "scale": 0,
        "showTitle": true,
        "title": "Portfolio",
        "titleAlign": "center"
       },
       "position": {
        "height": 6,
        "width": 21,
        "x": 0,
        "y": 0,
        "z": null
       },
       "resultIndex": null
      }
     ],
     "globalVars": {},
     "guid": "",
     "layoutOption": {
      "grid": true,
      "stack": true
     },
     "nuid": "29a4b402-80ea-4a19-bd0c-d26fa44359e9",
     "origId": 3189763343524743,
     "title": "Untitled",
     "version": "DashboardViewV1",
     "width": 1024
    }
   ],
   "language": "python",
   "notebookMetadata": {
    "mostRecentlyExecutedCommandWithImplicitDF": {
     "commandId": 3189763343524742,
     "dataframes": [
      "_sqldf"
     ]
    },
    "pythonIndentUnit": 4
   },
   "notebookName": "Product",
   "widgets": {}
  },
  "kernelspec": {
   "display_name": "artefact-hackathon-team-04",
   "language": "python",
   "name": "python3"
  },
  "language_info": {
   "codemirror_mode": {
    "name": "ipython",
    "version": 3
   },
   "file_extension": ".py",
   "mimetype": "text/x-python",
   "name": "python",
   "nbconvert_exporter": "python",
   "pygments_lexer": "ipython3",
   "version": "3.10.14"
  }
 },
 "nbformat": 4,
 "nbformat_minor": 0
}
