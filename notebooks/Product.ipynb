{
 "cells": [
  {
   "cell_type": "code",
   "execution_count": null,
   "metadata": {
    "application/vnd.databricks.v1+cell": {
     "cellMetadata": {
      "byteLimit": 2048000,
      "rowLimit": 10000
     },
     "inputWidgets": {},
     "nuid": "626d72cc-b6d9-4725-9089-d719683a90f6",
     "showTitle": false,
     "title": ""
    }
   },
   "outputs": [],
   "source": [
    "from lib.llm.model import model_api_client, make_impact_from_news, make_reasons_from_news\n",
    "from pyspark.sql.functions import lit\n",
    "from lib.scraping.scrap import extract_text_to_dataframe\n"
   ]
  },
  {
   "cell_type": "code",
   "execution_count": null,
   "metadata": {},
   "outputs": [],
   "source": [
    "client = model_api_client()\n",
    "news_data = spark.sql(\"select * from hive_metastore.default.news_data WHERE Date >= DATE_SUB(CURRENT_DATE(), 7) AND Date <= CURRENT_DATE()\")\n",
    "stock_df = spark.sql(\"select * from hive_metastore.default.stock_data WHERE stockID is not NULL\")\n",
    "countries = 'USA'\n",
    "stock_df = stock_df.withColumn(\"Countries\", lit(countries))\n",
    "filtered_data = news_data.join(stock_df, (news_data.Actor1CountryCode == stock_df.Countries) | (news_data.Actor2CountryCode == stock_df.Countries)).toPandas()\n",
    "news_df_processed = extract_text_to_dataframe(filtered_data.tail(10), filtered_data.columns[10], output_column = 'NewsBody')"
   ]
  },
  {
   "cell_type": "code",
   "execution_count": null,
   "metadata": {},
   "outputs": [],
   "source": [
    "news_content = news_df_processed.loc[0,'NewsBody']\n",
    "company_name = news_df_processed.loc[0,'company_name']\n",
    "position = news_df_processed.loc[0,'position']"
   ]
  },
  {
   "cell_type": "code",
   "execution_count": null,
   "metadata": {},
   "outputs": [],
   "source": [
    "impact = make_impact_from_news(news_content, company_name, position)\n",
    "reasons = make_reasons_from_news(news_content, impact, company_name)"
   ]
  }
 ],
 "metadata": {
  "application/vnd.databricks.v1+notebook": {
   "dashboards": [
    {
     "elements": [
      {
       "dashboardResultIndex": 0,
       "elementNUID": "42613a51-0cf2-404e-bfe8-65992b73fd4c",
       "elementType": "command",
       "guid": "b4cff6af-a8ae-4a60-8476-8d71f15108f6",
       "options": {
        "autoScaleImg": false,
        "scale": 0,
        "showTitle": true,
        "title": "Portfolio",
        "titleAlign": "center"
       },
       "position": {
        "height": 6,
        "width": 21,
        "x": 0,
        "y": 0,
        "z": null
       },
       "resultIndex": null
      }
     ],
     "globalVars": {},
     "guid": "",
     "layoutOption": {
      "grid": true,
      "stack": true
     },
     "nuid": "29a4b402-80ea-4a19-bd0c-d26fa44359e9",
     "origId": 3189763343524743,
     "title": "Untitled",
     "version": "DashboardViewV1",
     "width": 1024
    }
   ],
   "language": "python",
   "notebookMetadata": {
    "mostRecentlyExecutedCommandWithImplicitDF": {
     "commandId": 3189763343524742,
     "dataframes": [
      "_sqldf"
     ]
    },
    "pythonIndentUnit": 4
   },
   "notebookName": "Product",
   "widgets": {}
  },
  "kernelspec": {
   "display_name": "artefact-hackathon-team-04",
   "language": "python",
   "name": "python3"
  },
  "language_info": {
   "codemirror_mode": {
    "name": "ipython",
    "version": 3
   },
   "file_extension": ".py",
   "mimetype": "text/x-python",
   "name": "python",
   "nbconvert_exporter": "python",
   "pygments_lexer": "ipython3",
   "version": "3.10.14"
  }
 },
 "nbformat": 4,
 "nbformat_minor": 0
}
