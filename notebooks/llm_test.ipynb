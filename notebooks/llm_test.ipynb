{
 "cells": [
  {
   "cell_type": "code",
   "execution_count": null,
   "metadata": {},
   "outputs": [],
   "source": [
    "from lib.llm.model import model_api_client, prompt_llm\n",
    "\n",
    "client = model_api_client()\n",
    "prompt = \"What are the countries in which ASML, the microchip company, operates? Return the answer as a python list of countries names only, no other text, such as ['el1', 'el2',...].\"\n",
    "fillers={}\n",
    "\n",
    "completion = prompt_llm(client, prompt=prompt, fillers=fillers, role=\"You are a financial assistent\")\n",
    "\n",
    "print(completion.choices[0].message.content)"
   ]
  },
  {
   "cell_type": "code",
   "execution_count": null,
   "metadata": {},
   "outputs": [],
   "source": [
    "# OUTPUT SAMPLE\n",
    "# {\n",
    "#   \"id\": \"cmpl-8a9ba025b8a744e881636351a26e4642\",\n",
    "#   \"object\": \"chat.completion\",\n",
    "#   \"created\": 1697721484,\n",
    "#   \"model\": \"zephyr-chat\",\n",
    "#   \"choices\": [\n",
    "#       {\n",
    "#           \"index\": 0,\n",
    "#           \"message\": {\n",
    "#               \"role\": \"assistant\",\n",
    "#               \"content\": \"There are typically 365 days in a year. However, in a leap year, which occurs every four years, there are 366 days. Leap years are used to account for the extra fraction of a day that is not included in a regular year.\"\n",
    "#           },\n",
    "#           \"finish_reason\": \"stop\"\n",
    "#       }\n",
    "#   ],\n",
    "#   \"usage\": {\n",
    "#       \"prompt_tokens\": 30,\n",
    "#       \"total_tokens\": 90,\n",
    "#       \"completion_tokens\": 60\n",
    "#   }\n",
    "# }"
   ]
  }
 ],
 "metadata": {
  "kernelspec": {
   "display_name": "artefact-hackathon-team-04",
   "language": "python",
   "name": "python3"
  },
  "language_info": {
   "codemirror_mode": {
    "name": "ipython",
    "version": 3
   },
   "file_extension": ".py",
   "mimetype": "text/x-python",
   "name": "python",
   "nbconvert_exporter": "python",
   "pygments_lexer": "ipython3",
   "version": "3.10.14"
  }
 },
 "nbformat": 4,
 "nbformat_minor": 2
}
