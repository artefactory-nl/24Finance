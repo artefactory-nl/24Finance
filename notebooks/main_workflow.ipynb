{
 "cells": [
  {
   "cell_type": "code",
   "execution_count": 0,
   "metadata": {
    "application/vnd.databricks.v1+cell": {
     "cellMetadata": {
      "byteLimit": 2048000,
      "rowLimit": 10000
     },
     "inputWidgets": {},
     "nuid": "626d72cc-b6d9-4725-9089-d719683a90f6",
     "showTitle": false,
     "title": ""
    }
   },
   "outputs": [],
   "source": [
    "from lib.llm.model import model_api_client, prompt_llm\n",
    "from lib.prompting.prompts import create_operational_countries_prompt\n",
    "import ast\n",
    "#from lib.utils import extract_text_to_dataframe\n"
   ]
  },
  {
   "cell_type": "code",
   "execution_count": 0,
   "metadata": {
    "application/vnd.databricks.v1+cell": {
     "cellMetadata": {
      "byteLimit": 2048000,
      "rowLimit": 10000
     },
     "inputWidgets": {},
     "nuid": "9e5bcf71-341b-440f-b321-f2f564165ca2",
     "showTitle": false,
     "title": ""
    }
   },
   "outputs": [],
   "source": [
    "dbutils.library.restartPython()"
   ]
  },
  {
   "cell_type": "markdown",
   "metadata": {
    "application/vnd.databricks.v1+cell": {
     "cellMetadata": {},
     "inputWidgets": {},
     "nuid": "1ee7222f-7cb9-4848-9be8-8e479065ec82",
     "showTitle": false,
     "title": ""
    }
   },
   "source": [
    "# Main flow \"24Finance\" code\n",
    "Describing the flow, in series, of the 24 Porto dashboard creation. \n",
    "Goal of the product: Show a dashboard with newsarticles that:\n",
    "- presents per newsarticle whether it positively or negatively impacts your portfolio\n",
    "- give the reason why\n",
    "- give summary of the news\n",
    "- quantification of the impact"
   ]
  },
  {
   "cell_type": "code",
   "execution_count": 0,
   "metadata": {
    "application/vnd.databricks.v1+cell": {
     "cellMetadata": {},
     "inputWidgets": {},
     "nuid": "f475a3ea-586b-46ac-9102-a51f07f498df",
     "showTitle": false,
     "title": ""
    }
   },
   "outputs": [],
   "source": []
  },
  {
   "cell_type": "markdown",
   "metadata": {
    "application/vnd.databricks.v1+cell": {
     "cellMetadata": {},
     "inputWidgets": {},
     "nuid": "95092f55-2a66-4301-9d2a-685f8b560df5",
     "showTitle": false,
     "title": ""
    }
   },
   "source": [
    "### 1.1 Create and/or import the portfolio data table. With the following columns: [stockID, trading_market, industry, stock_position]\n",
    "**TTwo types of position**\n",
    "- 'long'\n",
    "- 'short'"
   ]
  },
  {
   "cell_type": "code",
   "execution_count": 0,
   "metadata": {
    "application/vnd.databricks.v1+cell": {
     "cellMetadata": {},
     "inputWidgets": {},
     "nuid": "953506ca-d9fa-4823-9671-8b82c2c8dbeb",
     "showTitle": false,
     "title": ""
    }
   },
   "outputs": [],
   "source": []
  },
  {
   "cell_type": "markdown",
   "metadata": {
    "application/vnd.databricks.v1+cell": {
     "cellMetadata": {},
     "inputWidgets": {},
     "nuid": "1d81664f-78dc-445d-a66f-3d68f0b76a7b",
     "showTitle": false,
     "title": ""
    }
   },
   "source": [
    "### 1.2 Add the operational countries per financial product\n",
    "- Ask an LLM in what countries the company_name is involved in and fill in final \n",
    "- Final portfolio data tables should have columns: portfolio_table --> [stockID, company_name, trading_market, industry, type_of_product, OperationalCountries]"
   ]
  },
  {
   "cell_type": "code",
   "execution_count": 0,
   "metadata": {
    "application/vnd.databricks.v1+cell": {
     "cellMetadata": {
      "byteLimit": 2048000,
      "rowLimit": 10000
     },
     "inputWidgets": {},
     "nuid": "fa42f9e3-f2c1-44ad-8e49-287e0a0e74a9",
     "showTitle": false,
     "title": ""
    }
   },
   "outputs": [],
   "source": [
    "client = model_api_client()\n",
    "# prompt = \"What are the countries in which ASML, the microchip company, operates? Return the answer as a python list of countries names only, no other text, such as ['el1', 'el2',...].\"\n",
    "role = \"You are a financial assistent\"\n",
    "#fillers={'stock_id': 'ASML'}\n",
    "\n",
    "prompt = create_operational_countries_prompt(fillers)\n",
    "countries = prompt_llm(client, prompt=prompt, role=role).choices[0].message.content\n",
    "countries_list = ast.literal_eval(countries)\n"
   ]
  },
  {
   "cell_type": "markdown",
   "metadata": {
    "application/vnd.databricks.v1+cell": {
     "cellMetadata": {},
     "inputWidgets": {},
     "nuid": "e5cf939e-9a13-4e3c-8b18-8f353e1df1ab",
     "showTitle": false,
     "title": ""
    }
   },
   "source": [
    "## 2 | News data processing & content matching\n",
    "Goal: \n",
    "- Input all the news data\n",
    "- Join them with the portfolio data table\n",
    "- Add the news content\n"
   ]
  },
  {
   "cell_type": "code",
   "execution_count": 0,
   "metadata": {
    "application/vnd.databricks.v1+cell": {
     "cellMetadata": {
      "byteLimit": 2048000,
      "rowLimit": 10000
     },
     "inputWidgets": {},
     "nuid": "1ed3c3e3-e388-42bb-8eac-d28e8ab112ab",
     "showTitle": false,
     "title": ""
    }
   },
   "outputs": [],
   "source": [
    "stock_df = spark.sql(\"select * from hive_metastore.default.stock_data WHERE stockID is not NULL\")\n"
   ]
  },
  {
   "cell_type": "code",
   "execution_count": 0,
   "metadata": {
    "application/vnd.databricks.v1+cell": {
     "cellMetadata": {
      "byteLimit": 2048000,
      "rowLimit": 10000
     },
     "inputWidgets": {},
     "nuid": "ed0acf53-6a46-40dc-9a51-819ecfba239d",
     "showTitle": false,
     "title": ""
    }
   },
   "outputs": [],
   "source": [
    "stock_df.toPandas()"
   ]
  },
  {
   "cell_type": "markdown",
   "metadata": {
    "application/vnd.databricks.v1+cell": {
     "cellMetadata": {},
     "inputWidgets": {},
     "nuid": "9026d3c6-f71e-481b-9c69-4528a92397b9",
     "showTitle": false,
     "title": ""
    }
   },
   "source": [
    "### 2.1 Import the news data tables\n",
    "Import the following tables:\n",
    "- cameo_country\n",
    "- cameo_event\n",
    "- news_data"
   ]
  },
  {
   "cell_type": "code",
   "execution_count": 0,
   "metadata": {
    "application/vnd.databricks.v1+cell": {
     "cellMetadata": {
      "byteLimit": 2048000,
      "rowLimit": 10000
     },
     "inputWidgets": {},
     "nuid": "95fa0732-b272-4176-a29e-865a86fa7540",
     "showTitle": false,
     "title": ""
    }
   },
   "outputs": [],
   "source": [
    "news_data = spark.sql(\"select * from hive_metastore.default.news_data WHERE Date >= DATE_SUB(CURRENT_DATE(), 7) AND Date <= CURRENT_DATE()\")"
   ]
  },
  {
   "cell_type": "code",
   "execution_count": 0,
   "metadata": {
    "application/vnd.databricks.v1+cell": {
     "cellMetadata": {
      "byteLimit": 2048000,
      "rowLimit": 10000
     },
     "inputWidgets": {},
     "nuid": "42d383f5-4c2b-474b-bfc3-241ed6689351",
     "showTitle": false,
     "title": ""
    }
   },
   "outputs": [],
   "source": [
    "countries = 'USA'"
   ]
  },
  {
   "cell_type": "code",
   "execution_count": 0,
   "metadata": {
    "application/vnd.databricks.v1+cell": {
     "cellMetadata": {
      "byteLimit": 2048000,
      "rowLimit": 10000
     },
     "inputWidgets": {},
     "nuid": "dc7eae1c-d210-46c4-b54c-5115ab8d1fba",
     "showTitle": false,
     "title": ""
    }
   },
   "outputs": [],
   "source": [
    "from pyspark.sql.functions import lit\n",
    "stock_df = stock_df.withColumn(\"Countries\", lit(countries))\n",
    "\n"
   ]
  },
  {
   "cell_type": "code",
   "execution_count": 0,
   "metadata": {
    "application/vnd.databricks.v1+cell": {
     "cellMetadata": {
      "byteLimit": 2048000,
      "rowLimit": 10000
     },
     "inputWidgets": {},
     "nuid": "7ddcf1ae-059a-4fb4-99fe-f0735ff6aba6",
     "showTitle": false,
     "title": ""
    }
   },
   "outputs": [],
   "source": [
    "stock_df.show()"
   ]
  },
  {
   "cell_type": "markdown",
   "metadata": {
    "application/vnd.databricks.v1+cell": {
     "cellMetadata": {},
     "inputWidgets": {},
     "nuid": "81abf494-cf01-4baa-95c8-5456fbe05c35",
     "showTitle": false,
     "title": ""
    }
   },
   "source": [
    "### 2.2 Match the news data columns with the portfolio data \n",
    "Based on:\n",
    "- Industry\n",
    "- Involved countries\n",
    "\n",
    "Output should be a table in which every row is a news article and the columns are : news_table --> [newsID, stockID, companyName, EventCode, EventRootCode, GoldsteinScale, AvgTone, Actor1_Geo_Country, Actor2_Geo_Country, ActionGeo_Country, numMentions, NewsUrl, OperationalCountries, TradeMarkets, NewsText, NewsSummary, BinaryImpact, ReasonCallout, RatingImpact]\n",
    "\n",
    "Only the following columns are populated after this step:\n",
    "- newsID\n",
    "- stockID\n",
    "- companyName\n",
    "- EventCode\n",
    "- EventRootCode\n",
    "- GoldsteinScale\n",
    "- AvgTone\n",
    "- Actor1_Geo_Country\n",
    "- Actor2_Geo_Country\n",
    "- ActionGeo_Country\n",
    "- numMentions\n",
    "- NewsUrl\n",
    "- OperationalCountries\n",
    "- TradeMarkets"
   ]
  },
  {
   "cell_type": "code",
   "execution_count": 0,
   "metadata": {
    "application/vnd.databricks.v1+cell": {
     "cellMetadata": {
      "byteLimit": 2048000,
      "rowLimit": 10000
     },
     "inputWidgets": {},
     "nuid": "a42d65b0-41b8-4b97-94aa-c3e24d914f32",
     "showTitle": false,
     "title": ""
    }
   },
   "outputs": [],
   "source": [
    "# Filter news_data based on countries in stock_df using SQL query\n",
    "filtered_data = news_data.join(stock_df, (news_data.Actor1CountryCode == stock_df.Countries) | (news_data.Actor2CountryCode == stock_df.Countries))\n",
    "\n",
    "# Show the filtered data\n",
    "filtered_data.show()"
   ]
  },
  {
   "cell_type": "code",
   "execution_count": 0,
   "metadata": {
    "application/vnd.databricks.v1+cell": {
     "cellMetadata": {
      "byteLimit": 2048000,
      "rowLimit": 10000
     },
     "inputWidgets": {},
     "nuid": "3bca75b3-ec66-49f2-a21c-545d7d88b2c1",
     "showTitle": false,
     "title": ""
    }
   },
   "outputs": [],
   "source": [
    "filtered_data.show()"
   ]
  },
  {
   "cell_type": "code",
   "execution_count": 0,
   "metadata": {
    "application/vnd.databricks.v1+cell": {
     "cellMetadata": {},
     "inputWidgets": {},
     "nuid": "d78e5753-dddd-41d3-a6d3-fb47dc8243b2",
     "showTitle": false,
     "title": ""
    }
   },
   "outputs": [],
   "source": [
    "stock_"
   ]
  },
  {
   "cell_type": "code",
   "execution_count": 0,
   "metadata": {
    "application/vnd.databricks.v1+cell": {
     "cellMetadata": {
      "byteLimit": 2048000,
      "rowLimit": 10000
     },
     "inputWidgets": {},
     "nuid": "034c613f-e203-4bfa-aa00-0e271b8017d0",
     "showTitle": false,
     "title": ""
    }
   },
   "outputs": [],
   "source": [
    "filtered_data = filtered_data.toPandas()"
   ]
  },
  {
   "cell_type": "code",
   "execution_count": 0,
   "metadata": {
    "application/vnd.databricks.v1+cell": {
     "cellMetadata": {
      "byteLimit": 2048000,
      "rowLimit": 10000
     },
     "inputWidgets": {},
     "nuid": "86acbafe-4ee2-4daa-9bb2-4c48c356287c",
     "showTitle": false,
     "title": ""
    }
   },
   "outputs": [],
   "source": [
    "filtered_data = filtered_data.rename(columns={filtered_data.columns[10]: \"ArticleUrl\"})\n"
   ]
  },
  {
   "cell_type": "code",
   "execution_count": 0,
   "metadata": {
    "application/vnd.databricks.v1+cell": {
     "cellMetadata": {
      "byteLimit": 2048000,
      "rowLimit": 10000
     },
     "inputWidgets": {},
     "nuid": "47b2fc5c-35e1-426b-80ff-4c92d93e0136",
     "showTitle": false,
     "title": ""
    }
   },
   "outputs": [],
   "source": [
    "filtered_data = filtered_data.toPandas()"
   ]
  },
  {
   "cell_type": "code",
   "execution_count": 0,
   "metadata": {
    "application/vnd.databricks.v1+cell": {
     "cellMetadata": {
      "byteLimit": 2048000,
      "rowLimit": 10000
     },
     "inputWidgets": {},
     "nuid": "eb726e0f-8f75-45c9-bea4-f65e3de1db05",
     "showTitle": false,
     "title": ""
    }
   },
   "outputs": [],
   "source": [
    "filtered_data"
   ]
  },
  {
   "cell_type": "markdown",
   "metadata": {
    "application/vnd.databricks.v1+cell": {
     "cellMetadata": {},
     "inputWidgets": {},
     "nuid": "73a99305-4d0a-4385-b750-9295c037cfac",
     "showTitle": false,
     "title": ""
    }
   },
   "source": [
    "### 2.3 News scraping\n",
    "Scrape the webpage denoted by NewsUrl to obtain the text of the news. \n",
    "Goal: populate the 'NewsText' column in the news_table table"
   ]
  },
  {
   "cell_type": "code",
   "execution_count": 0,
   "metadata": {
    "application/vnd.databricks.v1+cell": {
     "cellMetadata": {
      "byteLimit": 2048000,
      "rowLimit": 10000
     },
     "inputWidgets": {},
     "nuid": "01e55674-cd54-4677-b0de-410527a559fd",
     "showTitle": false,
     "title": ""
    }
   },
   "outputs": [],
   "source": [
    "import pandas as pd\n",
    "import json\n",
    "import newspaper\n",
    "\n",
    "def extract_text_to_dataframe(df, url_column, output_column):\n",
    "    for index, row in df.iterrows():\n",
    "        url = row[url_column]\n",
    "        try:\n",
    "            article_obj = newspaper.Article(url)\n",
    "            article_obj.download()\n",
    "            article_obj.parse()\n",
    "            text = article_obj.text\n",
    "            df.at[index, output_column] = text\n",
    "\n",
    "        except Exception as e:\n",
    "            print(f\"Error processing URL {url}: {str(e)}\")\n",
    "            df.at[index, output_column] = \"\"  # Assign an empty string or any default value if there's an error\n",
    "    df[output_column] = df[output_column].apply(lambda x: json.dumps(x)).fillna(\"\")\n",
    "\n",
    "\n",
    "    return df\n",
    "\n",
    "news_df_processed = extract_text_to_dataframe(filtered_data.tail(10), filtered_data.columns[10], output_column = 'NewsBody')\n",
    "\n",
    "\n"
   ]
  },
  {
   "cell_type": "code",
   "execution_count": 0,
   "metadata": {
    "application/vnd.databricks.v1+cell": {
     "cellMetadata": {
      "byteLimit": 2048000,
      "rowLimit": 10000
     },
     "inputWidgets": {},
     "nuid": "002247ca-0998-454a-a253-d34a853183ee",
     "showTitle": false,
     "title": ""
    }
   },
   "outputs": [],
   "source": [
    "news_df_processed"
   ]
  },
  {
   "cell_type": "code",
   "execution_count": 0,
   "metadata": {
    "application/vnd.databricks.v1+cell": {
     "cellMetadata": {
      "byteLimit": 2048000,
      "rowLimit": 10000
     },
     "inputWidgets": {},
     "nuid": "96908690-651a-42b0-81d7-c3bf43a129a7",
     "showTitle": false,
     "title": ""
    }
   },
   "outputs": [],
   "source": [
    "article_obj = newspaper.Article('https://www.dailymail.co.uk/news/article-11947993/Fears-Northern-Irish-police-officers-attacked-day-President-Biden-visits.html')\n",
    "\n",
    "text = article_obj.text\n",
    "text\n"
   ]
  },
  {
   "cell_type": "code",
   "execution_count": 0,
   "metadata": {
    "application/vnd.databricks.v1+cell": {
     "cellMetadata": {
      "byteLimit": 2048000,
      "rowLimit": 10000
     },
     "inputWidgets": {},
     "nuid": "ea81a799-8446-4494-82a2-ade6aa80bb70",
     "showTitle": false,
     "title": ""
    }
   },
   "outputs": [],
   "source": [
    "filtered_data"
   ]
  },
  {
   "cell_type": "markdown",
   "metadata": {
    "application/vnd.databricks.v1+cell": {
     "cellMetadata": {},
     "inputWidgets": {},
     "nuid": "d9bb7e6c-f011-4728-825b-88f66aab7c44",
     "showTitle": false,
     "title": ""
    }
   },
   "source": [
    "## 3 | News x Stock comparison via LLM\n",
    "Goal:\n",
    "- Ask the LLM if the newsarticle (denoted by 'NewsText' column) has a postive or negative impact on the 'companyName' fin product\n",
    "- Ask the LLM why the impact is as such\n",
    "- (Ask the LLM to quantify the impact)\n",
    "- Ask the LLM to summarize the news article (denoted in 'NewsText' column)\n",
    "\n",
    "Python function: `def extract_fillers_from_matched_content(news_table_id:dict) -> dict:\n",
    "    \"\"\"\n",
    "    {\n",
    "        article_id:\n",
    "        {\n",
    "            stock_id:\n",
    "            {\n",
    "                \"actor1_country\":...,\n",
    "                \"actor2_country\":...,\n",
    "                \"action_country\":...,\n",
    "                \"article_text\":...,\n",
    "                ...\n",
    "            }\n",
    "        }\n",
    "    }\n",
    "    \"\"\"`\n",
    "\n",
    "Returns information for the folloiwing columns of the news_table table:\n",
    "- NewsSummary\n",
    "- BinaryImpact\n",
    "- ReasonCallout\n",
    "- RattingImpact\n"
   ]
  },
  {
   "cell_type": "code",
   "execution_count": 0,
   "metadata": {
    "application/vnd.databricks.v1+cell": {
     "cellMetadata": {
      "byteLimit": 2048000,
      "rowLimit": 10000
     },
     "inputWidgets": {},
     "nuid": "ef491344-13ca-4108-83b8-c702ffd9b000",
     "showTitle": false,
     "title": ""
    }
   },
   "outputs": [],
   "source": [
    "pip install newspaper3k"
   ]
  },
  {
   "cell_type": "code",
   "execution_count": 0,
   "metadata": {
    "application/vnd.databricks.v1+cell": {
     "cellMetadata": {
      "byteLimit": 2048000,
      "rowLimit": 10000
     },
     "inputWidgets": {},
     "nuid": "2090e88b-e6cb-4a84-953d-79d0e8a4d2a2",
     "showTitle": false,
     "title": ""
    }
   },
   "outputs": [],
   "source": [
    "pip uninstall newspaper3k"
   ]
  },
  {
   "cell_type": "code",
   "execution_count": 0,
   "metadata": {
    "application/vnd.databricks.v1+cell": {
     "cellMetadata": {
      "byteLimit": 2048000,
      "rowLimit": 10000
     },
     "inputWidgets": {},
     "nuid": "1e67d6b8-e6ef-496a-8628-a7776e4720fb",
     "showTitle": false,
     "title": ""
    }
   },
   "outputs": [],
   "source": [
    "pip install newspaper3k"
   ]
  },
  {
   "cell_type": "code",
   "execution_count": 0,
   "metadata": {
    "application/vnd.databricks.v1+cell": {
     "cellMetadata": {
      "byteLimit": 2048000,
      "rowLimit": 10000
     },
     "inputWidgets": {},
     "nuid": "272a560f-2159-4bd6-adf2-28925982592c",
     "showTitle": false,
     "title": ""
    }
   },
   "outputs": [],
   "source": [
    "dbutils.library.restartPython()"
   ]
  },
  {
   "cell_type": "code",
   "execution_count": 0,
   "metadata": {
    "application/vnd.databricks.v1+cell": {
     "cellMetadata": {
      "byteLimit": 2048000,
      "rowLimit": 10000
     },
     "inputWidgets": {},
     "nuid": "341a79f8-ca71-47bc-976b-59e536304b19",
     "showTitle": false,
     "title": ""
    }
   },
   "outputs": [],
   "source": [
    "pip install lxml.html.clean"
   ]
  },
  {
   "cell_type": "code",
   "execution_count": 0,
   "metadata": {
    "application/vnd.databricks.v1+cell": {
     "cellMetadata": {
      "byteLimit": 2048000,
      "rowLimit": 10000
     },
     "inputWidgets": {},
     "nuid": "e7cc4e1c-0747-4aee-9ac3-1823aedf04f7",
     "showTitle": false,
     "title": ""
    }
   },
   "outputs": [],
   "source": [
    "import json\n",
    "import newspaper\n",
    "import pandas as pd\n",
    "\n",
    "def extract_text_to_dataframe(df, url_column, output_column):\n",
    "    for index, row in df.iterrows():\n",
    "        url = row[url_column]\n",
    "        try:\n",
    "            article = newspaper.Article(url)\n",
    "            article.download()\n",
    "            article.parse()\n",
    "            text = article.text\n",
    "            df.at[index, output_column] = text\n",
    "        except Exception as e:\n",
    "            print(f\"Error processing URL {url}: {str(e)}\")\n",
    "    df[output_column] = df[output_column].apply(lambda x: json.dumps(x))\n",
    "    return df\n",
    "\n",
    "# Example usage\n",
    "# Create a DataFrame with columns for article_url\n",
    "df = pd.DataFrame({'article_url': ['https://example.com/article1', 'https://example.com/article2']})\n",
    "\n",
    "# Extract text from URLs and jsonify the article_text column\n",
    "result_df = extract_text_to_dataframe(df, 'article_url', 'article_text')\n",
    "\n",
    "# Display the resulting DataFrame\n",
    "print(result_df)"
   ]
  },
  {
   "cell_type": "markdown",
   "metadata": {
    "application/vnd.databricks.v1+cell": {
     "cellMetadata": {},
     "inputWidgets": {},
     "nuid": "92343409-21eb-45c2-ac9a-4a02d5ba7876",
     "showTitle": false,
     "title": ""
    }
   },
   "source": [
    "## 4 | Dashboarding \n",
    "Present the information in the "
   ]
  },
  {
   "cell_type": "code",
   "execution_count": 0,
   "metadata": {
    "application/vnd.databricks.v1+cell": {
     "cellMetadata": {},
     "inputWidgets": {},
     "nuid": "4c0a0f33-a70f-4bae-80ce-7dcda9f55e47",
     "showTitle": false,
     "title": ""
    }
   },
   "outputs": [],
   "source": []
  },
  {
   "cell_type": "code",
   "execution_count": 0,
   "metadata": {
    "application/vnd.databricks.v1+cell": {
     "cellMetadata": {
      "byteLimit": 2048000,
      "rowLimit": 10000
     },
     "inputWidgets": {},
     "nuid": "d407bf67-aa28-40f3-8f43-37e397442dd1",
     "showTitle": false,
     "title": ""
    }
   },
   "outputs": [],
   "source": [
    "from lib.llm.model import model_api_client, prompt_llm\n",
    "from lib.prompting.prompts import create_operational_countries_prompt\n",
    "import ast\n",
    "\n",
    "client = model_api_client()\n",
    "prompt = \"What are the countries in which ASML, the microchip company, operates? Return the answer as a python list of countries names only, no other text, such as ['el1', 'el2',...].\"\n",
    "role = \"You are a financial assistent\"\n",
    "fillers={'stock_id': 'ASML'}\n",
    "\n",
    "create_operational_countries_prompt(fillers)\n",
    "countries = prompt_llm(client, prompt=prompt, role=role).choices[0].message.content\n",
    "countries_list = ast.literal_eval(countries)\n"
   ]
  },
  {
   "cell_type": "code",
   "execution_count": 0,
   "metadata": {
    "application/vnd.databricks.v1+cell": {
     "cellMetadata": {
      "byteLimit": 2048000,
      "rowLimit": 10000
     },
     "inputWidgets": {},
     "nuid": "5682657a-0085-400e-9a0b-ef458dc2f0de",
     "showTitle": false,
     "title": ""
    }
   },
   "outputs": [],
   "source": [
    "countries_list"
   ]
  },
  {
   "cell_type": "code",
   "execution_count": 0,
   "metadata": {
    "application/vnd.databricks.v1+cell": {
     "cellMetadata": {},
     "inputWidgets": {},
     "nuid": "12038b72-2a28-4c6b-9a0c-1255c47fd0b0",
     "showTitle": false,
     "title": ""
    }
   },
   "outputs": [],
   "source": [
    "# OUTPUT SAMPLE\n",
    "# {\n",
    "#   \"id\": \"cmpl-8a9ba025b8a744e881636351a26e4642\",\n",
    "#   \"object\": \"chat.completion\",\n",
    "#   \"created\": 1697721484,\n",
    "#   \"model\": \"zephyr-chat\",\n",
    "#   \"choices\": [\n",
    "#       {\n",
    "#           \"index\": 0,\n",
    "#           \"message\": {\n",
    "#               \"role\": \"assistant\",\n",
    "#               \"content\": \"There are typically 365 days in a year. However, in a leap year, which occurs every four years, there are 366 days. Leap years are used to account for the extra fraction of a day that is not included in a regular year.\"\n",
    "#           },\n",
    "#           \"finish_reason\": \"stop\"\n",
    "#       }\n",
    "#   ],\n",
    "#   \"usage\": {\n",
    "#       \"prompt_tokens\": 30,\n",
    "#       \"total_tokens\": 90,\n",
    "#       \"completion_tokens\": 60\n",
    "#   }\n",
    "# }"
   ]
  }
 ],
 "metadata": {
  "application/vnd.databricks.v1+notebook": {
   "dashboards": [],
   "language": "python",
   "notebookMetadata": {
    "pythonIndentUnit": 4
   },
   "notebookName": "main_workflow",
   "widgets": {}
  },
  "kernelspec": {
   "display_name": "artefact-hackathon-team-04",
   "language": "python",
   "name": "python3"
  },
  "language_info": {
   "codemirror_mode": {
    "name": "ipython",
    "version": 3
   },
   "file_extension": ".py",
   "mimetype": "text/x-python",
   "name": "python",
   "nbconvert_exporter": "python",
   "pygments_lexer": "ipython3",
   "version": "3.10.14"
  }
 },
 "nbformat": 4,
 "nbformat_minor": 0
}
