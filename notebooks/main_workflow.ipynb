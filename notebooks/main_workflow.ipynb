{
 "cells": [
  {
   "cell_type": "code",
   "execution_count": 0,
   "metadata": {
    "application/vnd.databricks.v1+cell": {
     "cellMetadata": {
      "byteLimit": 2048000,
      "rowLimit": 10000
     },
     "inputWidgets": {},
     "nuid": "263ca41a-3768-4524-b7f7-172e6de760a2",
     "showTitle": false,
     "title": ""
    }
   },
   "outputs": [],
   "source": [
    "%pip install openai typing\n",
    "%pip install typing_extensions==3.10.0.0"
   ]
  },
  {
   "cell_type": "code",
   "execution_count": 0,
   "metadata": {
    "application/vnd.databricks.v1+cell": {
     "cellMetadata": {
      "byteLimit": 2048000,
      "rowLimit": 10000
     },
     "inputWidgets": {},
     "nuid": "e9c293a1-b4da-4b5a-a607-0dc43490ed3c",
     "showTitle": false,
     "title": ""
    }
   },
   "outputs": [],
   "source": [
    "from lib.llm.model import model_api_client, prompt_llm\n",
    "from lib.prompting.prompts import create_operational_countries_prompt, create_news_x_stock_impact_prompt\n",
    "import ast"
   ]
  },
  {
   "cell_type": "markdown",
   "metadata": {
    "application/vnd.databricks.v1+cell": {
     "cellMetadata": {},
     "inputWidgets": {},
     "nuid": "2b8193b4-112c-478a-a351-6fb0582f4f44",
     "showTitle": false,
     "title": ""
    }
   },
   "source": [
    "# Main flow \"24Finance\" code\n",
    "Describing the flow, in series, of the 24 Porto dashboard creation. \n",
    "Goal of the product: Show a dashboard with newsarticles that:\n",
    "- presents per newsarticle whether it positively or negatively impacts your portfolio\n",
    "- give the reason why\n",
    "- give summary of the news\n",
    "- quantification of the impact"
   ]
  },
  {
   "cell_type": "code",
   "execution_count": 0,
   "metadata": {
    "application/vnd.databricks.v1+cell": {
     "cellMetadata": {},
     "inputWidgets": {},
     "nuid": "9128b508-46be-4dee-981e-02f7d23485af",
     "showTitle": false,
     "title": ""
    }
   },
   "outputs": [],
   "source": []
  },
  {
   "cell_type": "markdown",
   "metadata": {
    "application/vnd.databricks.v1+cell": {
     "cellMetadata": {},
     "inputWidgets": {},
     "nuid": "27d075d2-c9cb-4b61-b27c-ef199ce25306",
     "showTitle": false,
     "title": ""
    }
   },
   "source": [
    "### 1.1 Create and/or import the portfolio data table. With the following columns: [stockID, trading_market, industry, stock_position]\n",
    "**TTwo types of position**\n",
    "- 'long'\n",
    "- 'short'"
   ]
  },
  {
   "cell_type": "code",
   "execution_count": 0,
   "metadata": {
    "application/vnd.databricks.v1+cell": {
     "cellMetadata": {},
     "inputWidgets": {},
     "nuid": "e939ed11-9b70-421e-91ce-aec0b27fcd31",
     "showTitle": false,
     "title": ""
    }
   },
   "outputs": [],
   "source": []
  },
  {
   "cell_type": "markdown",
   "metadata": {
    "application/vnd.databricks.v1+cell": {
     "cellMetadata": {},
     "inputWidgets": {},
     "nuid": "33ebea94-ba9c-4326-b6b7-dda081df8b84",
     "showTitle": false,
     "title": ""
    }
   },
   "source": [
    "### 1.2 Add the operational countries per financial product\n",
    "- Ask an LLM in what countries the company_name is involved in and fill in final \n",
    "- Final portfolio data tables should have columns: portfolio_table --> [stockID, company_name, trading_market, industry, type_of_product, OperationalCountries]"
   ]
  },
  {
   "cell_type": "code",
   "execution_count": 0,
   "metadata": {
    "application/vnd.databricks.v1+cell": {
     "cellMetadata": {},
     "inputWidgets": {},
     "nuid": "804512e1-7c3f-4b7e-ad4c-4ceda3824d38",
     "showTitle": false,
     "title": ""
    }
   },
   "outputs": [],
   "source": [
    "client = model_api_client()\n",
    "# prompt = \"What are the countries in which ASML, the microchip company, operates? Return the answer as a python list of countries names only, no other text, such as ['el1', 'el2',...].\"\n",
    "role = \"You are a financial assistent\"\n",
    "fillers={'stock_id': 'ASML'}\n",
    "\n",
    "prompt = create_operational_countries_prompt(fillers)\n",
    "countries = prompt_llm(client, prompt=prompt, role=role).choices[0].message.content\n",
    "countries_list = ast.literal_eval(countries)\n"
   ]
  },
  {
   "cell_type": "markdown",
   "metadata": {
    "application/vnd.databricks.v1+cell": {
     "cellMetadata": {},
     "inputWidgets": {},
     "nuid": "4cc82689-f1ea-4ac9-9f43-8d557a28db3e",
     "showTitle": false,
     "title": ""
    }
   },
   "source": [
    "## 2 | News data processing & content matching\n",
    "Goal: \n",
    "- Input all the news data\n",
    "- Join them with the portfolio data table\n",
    "- Add the news content\n"
   ]
  },
  {
   "cell_type": "code",
   "execution_count": 0,
   "metadata": {
    "application/vnd.databricks.v1+cell": {
     "cellMetadata": {},
     "inputWidgets": {},
     "nuid": "262bdb6a-a429-4acc-a5df-f1f065f5ccf4",
     "showTitle": false,
     "title": ""
    }
   },
   "outputs": [],
   "source": []
  },
  {
   "cell_type": "markdown",
   "metadata": {
    "application/vnd.databricks.v1+cell": {
     "cellMetadata": {},
     "inputWidgets": {},
     "nuid": "9cac84c1-2b5d-42c1-a05a-63c94ff85bde",
     "showTitle": false,
     "title": ""
    }
   },
   "source": [
    "### 2.1 Import the news data tables\n",
    "Import the following tables:\n",
    "- cameo_country\n",
    "- cameo_event\n",
    "- news_data"
   ]
  },
  {
   "cell_type": "code",
   "execution_count": 0,
   "metadata": {
    "application/vnd.databricks.v1+cell": {
     "cellMetadata": {},
     "inputWidgets": {},
     "nuid": "c64abaf1-f70b-4bb3-8cd7-51fe85598919",
     "showTitle": false,
     "title": ""
    }
   },
   "outputs": [],
   "source": []
  },
  {
   "cell_type": "markdown",
   "metadata": {
    "application/vnd.databricks.v1+cell": {
     "cellMetadata": {},
     "inputWidgets": {},
     "nuid": "69437bb5-3e9b-4296-bbd6-6dbfc8293b34",
     "showTitle": false,
     "title": ""
    }
   },
   "source": [
    "### 2.2 Match the news data columns with the portfolio data \n",
    "Based on:\n",
    "- Industry\n",
    "- Involved countries\n",
    "\n",
    "Output should be a table in which every row is a news article and the columns are : news_table --> [newsID, stockID, companyName, EventCode, EventRootCode, GoldsteinScale, AvgTone, Actor1_Geo_Country, Actor2_Geo_Country, ActionGeo_Country, numMentions, NewsUrl, OperationalCountries, TradeMarkets, NewsText, NewsSummary, BinaryImpact, ReasonCallout, RatingImpact]\n",
    "\n",
    "Only the following columns are populated after this step:\n",
    "- newsID\n",
    "- stockID\n",
    "- companyName\n",
    "- EventCode\n",
    "- EventRootCode\n",
    "- GoldsteinScale\n",
    "- AvgTone\n",
    "- Actor1_Geo_Country\n",
    "- Actor2_Geo_Country\n",
    "- ActionGeo_Country\n",
    "- numMentions\n",
    "- NewsUrl\n",
    "- OperationalCountries\n",
    "- TradeMarkets"
   ]
  },
  {
   "cell_type": "code",
   "execution_count": 0,
   "metadata": {
    "application/vnd.databricks.v1+cell": {
     "cellMetadata": {},
     "inputWidgets": {},
     "nuid": "319a2441-ccaa-4535-8b6f-e25f0a7ca01a",
     "showTitle": false,
     "title": ""
    }
   },
   "outputs": [],
   "source": []
  },
  {
   "cell_type": "markdown",
   "metadata": {
    "application/vnd.databricks.v1+cell": {
     "cellMetadata": {},
     "inputWidgets": {},
     "nuid": "24e84680-dd1f-419a-ac28-9fd5964f950d",
     "showTitle": false,
     "title": ""
    }
   },
   "source": [
    "### 2.3 News scraping\n",
    "Scrape the webpage denoted by NewsUrl to obtain the text of the news. \n",
    "Goal: populate the 'NewsText' column in the news_table table"
   ]
  },
  {
   "cell_type": "code",
   "execution_count": 0,
   "metadata": {
    "application/vnd.databricks.v1+cell": {
     "cellMetadata": {},
     "inputWidgets": {},
     "nuid": "3d7fcd3a-9652-435c-a568-852653bca5cb",
     "showTitle": false,
     "title": ""
    }
   },
   "outputs": [],
   "source": []
  },
  {
   "cell_type": "markdown",
   "metadata": {
    "application/vnd.databricks.v1+cell": {
     "cellMetadata": {},
     "inputWidgets": {},
     "nuid": "9af13ab1-9a62-4d4f-a3a3-08923a06c8f5",
     "showTitle": false,
     "title": ""
    }
   },
   "source": [
    "## 3 | News x Stock comparison via LLM\n",
    "Goal:\n",
    "- Ask the LLM if the newsarticle (denoted by 'NewsText' column) has a postive or negative impact on the 'companyName' fin product\n",
    "- Ask the LLM why the impact is as such\n",
    "- (Ask the LLM to quantify the impact)\n",
    "- Ask the LLM to summarize the news article (denoted in 'NewsText' column)\n",
    "\n",
    "Python function: `def extract_fillers_from_matched_content(news_table_id:dict) -> dict:\n",
    "    \"\"\"\n",
    "    {\n",
    "        article_id:\n",
    "        {\n",
    "            stock_id:\n",
    "            {\n",
    "                \"actor1_country\":...,\n",
    "                \"actor2_country\":...,\n",
    "                \"action_country\":...,\n",
    "                \"article_text\":...,\n",
    "                ...\n",
    "            }\n",
    "        }\n",
    "    }\n",
    "    \"\"\"`\n",
    "\n",
    "Returns information for the folloiwing columns of the news_table table:\n",
    "- NewsSummary\n",
    "- BinaryImpact\n",
    "- ReasonCallout\n",
    "- RattingImpact\n"
   ]
  },
  {
   "cell_type": "code",
   "execution_count": 0,
   "metadata": {
    "application/vnd.databricks.v1+cell": {
     "cellMetadata": {
      "byteLimit": 2048000,
      "rowLimit": 10000
     },
     "inputWidgets": {},
     "nuid": "609969e1-4e33-4ec5-9e5e-f8ff41d46cd3",
     "showTitle": false,
     "title": ""
    }
   },
   "outputs": [],
   "source": [
    "# Ask the LLM what the impact is of the news story on the stock\n",
    "\n",
    "client = model_api_client()\n",
    "fillers={\n",
    "    'news_content': '-',\n",
    "    'position:': '-',\n",
    "    'company_name': '-'\n",
    "}\n",
    "\n",
    "# TEST FILLERS:\n",
    "fillers['news_content'] = \"\"\" Bonn - DHL will expand its out-of-home delivery network in Sweden by around 1,000 parcel lockers in 2024, utilizing the white-label solution of its partner iBoxen and primarily focusing on metropolitan regions. This expansion of DHL's offering aligns with the company's global strategy to strengthen its capacity and capabilities in the e-commerce sector. The investment in Sweden represents a long-term commitment, with plans to continue electrifying last-mile transportation, digitizing services, expanding the parcel locker network, introducing new services, and boosting brand awareness. These initiatives are aimed at further enhancing the service quality for online buyers and better catering to their shopping and shipping preferences.\n",
    "\n",
    "Press release PDF 70.1 KB Parcel Locker Sweden JPEG 1.9 MB Robert Zander JPEG 1.3 MB \"E-commerce is constantly evolving, and at DHL, we are evolving alongside it. As we expand our presence in the Swedish market, we aim to make a lasting impression on consumers. The introduction of a significant number of parcel lockers marks the first step in our efforts to enhance accessibility and provide a stronger offering to e-retailers and consumers. We want to be the natural first choice for shippers and shoppers,\" says Robert Zander, CEO DHL Freight Sweden & Nordics.\n",
    "\n",
    "The trend of online shopping remains strong. The number of shipments and online shoppers continues to grow. This is supported by the Swedish Confederation of Transport Enterprises' Parcel Index, which reports a nearly 9% increase in parcel volume in 2023. In Sweden, where service points were traditionally the customers first choice, consumer behavior evolved over the last years and there is a growing demand for different delivery options, with an increasing preference for parcel lockers. The evolving consumer preferences and requirements encompass various factors such as flexibility, price, service level, availability, and sustainability.\n",
    "\n",
    "\"We are addressing the evolving consumer demand for diverse out-of-home solutions through our e-commerce initiative in Sweden. Leveraging our expertise, quality, and local network in both B2B and B2C, along with our comprehensive international offering, we have a solid foundation that allows us to expand our services and ultimately increase customer satisfaction,\" says Robert Zander, CEO DHL Freight Sweden & Nordics. \"\"\"\n",
    "fillers['position'] = 'long'\n",
    "fillers['company_name'] = 'DHL'\n",
    "\n",
    "prompt = create_news_x_stock_impact_prompt(fillers)\n",
    "# print(prompt)\n",
    "\n",
    "# try LLM prompt 5 times before giving up\n",
    "trials = 0\n",
    "correct = False\n",
    "impact = \"undetermined\"\n",
    "while (trials < 4) and not correct:\n",
    "    result = prompt_llm(client, prompt=prompt, role='').choices[0].message.content\n",
    "    if result.lower()[0:8] == \"positive\":\n",
    "        correct = True\n",
    "        impact = \"positive\"\n",
    "    elif result.lower()[0:8] == \"negative\":\n",
    "        correct = True\n",
    "        impact = \"negative\"\n",
    "    trials = trials + 1\n",
    "\n",
    "# print(impact)\n",
    "# print(trials)"
   ]
  },
  {
   "cell_type": "code",
   "execution_count": 0,
   "metadata": {
    "application/vnd.databricks.v1+cell": {
     "cellMetadata": {},
     "inputWidgets": {},
     "nuid": "9531667d-af09-451c-b815-cbb48d16e35d",
     "showTitle": false,
     "title": ""
    }
   },
   "outputs": [],
   "source": []
  },
  {
   "cell_type": "markdown",
   "metadata": {
    "application/vnd.databricks.v1+cell": {
     "cellMetadata": {},
     "inputWidgets": {},
     "nuid": "bfbf34c3-1fce-46e9-b408-fe59b2067ffd",
     "showTitle": false,
     "title": ""
    }
   },
   "source": [
    "## 4 | Dashboarding \n",
    "Present the information in the "
   ]
  },
  {
   "cell_type": "code",
   "execution_count": 0,
   "metadata": {
    "application/vnd.databricks.v1+cell": {
     "cellMetadata": {},
     "inputWidgets": {},
     "nuid": "a8b9f6ce-d9eb-4056-998b-48b75c844aa1",
     "showTitle": false,
     "title": ""
    }
   },
   "outputs": [],
   "source": []
  },
  {
   "cell_type": "code",
   "execution_count": 0,
   "metadata": {
    "application/vnd.databricks.v1+cell": {
     "cellMetadata": {},
     "inputWidgets": {},
     "nuid": "64ca6ea1-a45c-4455-a3fe-e3b89c26dc7b",
     "showTitle": false,
     "title": ""
    }
   },
   "outputs": [],
   "source": [
    "from lib.llm.model import model_api_client, prompt_llm\n",
    "from lib.prompting.prompts import create_operational_countries_prompt\n",
    "import ast\n",
    "\n",
    "client = model_api_client()\n",
    "prompt = \"What are the countries in which ASML, the microchip company, operates? Return the answer as a python list of countries names only, no other text, such as ['el1', 'el2',...].\"\n",
    "role = \"You are a financial assistent\"\n",
    "fillers={'stock_id': 'ASML'}\n",
    "\n",
    "create_operational_countries_prompt(fillers)\n",
    "countries = prompt_llm(client, prompt=prompt, role=role).choices[0].message.content\n",
    "countries_list = ast.literal_eval(countries)\n"
   ]
  },
  {
   "cell_type": "code",
   "execution_count": 0,
   "metadata": {
    "application/vnd.databricks.v1+cell": {
     "cellMetadata": {},
     "inputWidgets": {},
     "nuid": "f6e53c3f-2b29-4aab-815d-8effd7077efa",
     "showTitle": false,
     "title": ""
    }
   },
   "outputs": [],
   "source": [
    "# OUTPUT SAMPLE\n",
    "# {\n",
    "#   \"id\": \"cmpl-8a9ba025b8a744e881636351a26e4642\",\n",
    "#   \"object\": \"chat.completion\",\n",
    "#   \"created\": 1697721484,\n",
    "#   \"model\": \"zephyr-chat\",\n",
    "#   \"choices\": [\n",
    "#       {\n",
    "#           \"index\": 0,\n",
    "#           \"message\": {\n",
    "#               \"role\": \"assistant\",\n",
    "#               \"content\": \"There are typically 365 days in a year. However, in a leap year, which occurs every four years, there are 366 days. Leap years are used to account for the extra fraction of a day that is not included in a regular year.\"\n",
    "#           },\n",
    "#           \"finish_reason\": \"stop\"\n",
    "#       }\n",
    "#   ],\n",
    "#   \"usage\": {\n",
    "#       \"prompt_tokens\": 30,\n",
    "#       \"total_tokens\": 90,\n",
    "#       \"completion_tokens\": 60\n",
    "#   }\n",
    "# }"
   ]
  }
 ],
 "metadata": {
  "application/vnd.databricks.v1+notebook": {
   "dashboards": [],
   "language": "python",
   "notebookMetadata": {
    "pythonIndentUnit": 4
   },
   "notebookName": "main_workflow",
   "widgets": {}
  },
  "kernelspec": {
   "display_name": "artefact-hackathon-team-04",
   "language": "python",
   "name": "python3"
  },
  "language_info": {
   "codemirror_mode": {
    "name": "ipython",
    "version": 3
   },
   "file_extension": ".py",
   "mimetype": "text/x-python",
   "name": "python",
   "nbconvert_exporter": "python",
   "pygments_lexer": "ipython3",
   "version": "3.10.14"
  }
 },
 "nbformat": 4,
 "nbformat_minor": 0
}
