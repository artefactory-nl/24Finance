{
 "cells": [
  {
   "cell_type": "code",
   "execution_count": null,
   "metadata": {},
   "outputs": [],
   "source": [
    "from lib.llm.model import model_api_client, prompt_llm\n",
    "from lib.prompting.prompts import create_operational_countries_prompt\n",
    "import ast"
   ]
  },
  {
   "cell_type": "markdown",
   "metadata": {},
   "source": [
    "# Main flow \"24Finance\" code\n",
    "Describing the flow, in series, of the 24 Porto dashboard creation. \n",
    "Goal of the product: Show a dashboard with newsarticles that:\n",
    "- presents per newsarticle whether it positively or negatively impacts your portfolio\n",
    "- give the reason why\n",
    "- give summary of the news\n",
    "- quantification of the impact"
   ]
  },
  {
   "cell_type": "code",
   "execution_count": null,
   "metadata": {},
   "outputs": [],
   "source": []
  },
  {
   "cell_type": "markdown",
   "metadata": {},
   "source": [
    "### 1.1 Create and/or import the portfolio data table. With the following columns: [stockID, trading_market, industry, stock_position]\n",
    "**TTwo types of position**\n",
    "- 'long'\n",
    "- 'short'"
   ]
  },
  {
   "cell_type": "code",
   "execution_count": null,
   "metadata": {},
   "outputs": [],
   "source": []
  },
  {
   "cell_type": "markdown",
   "metadata": {},
   "source": [
    "### 1.2 Add the operational countries per financial product\n",
    "- Ask an LLM in what countries the company_name is involved in and fill in final \n",
    "- Final portfolio data tables should have columns: portfolio_table --> [stockID, company_name, trading_market, industry, type_of_product, OperationalCountries]"
   ]
  },
  {
   "cell_type": "code",
   "execution_count": null,
   "metadata": {},
   "outputs": [],
   "source": [
    "client = model_api_client()\n",
    "# prompt = \"What are the countries in which ASML, the microchip company, operates? Return the answer as a python list of countries names only, no other text, such as ['el1', 'el2',...].\"\n",
    "role = \"You are a financial assistent\"\n",
    "fillers={'stock_id': 'ASML'}\n",
    "\n",
    "prompt = create_operational_countries_prompt(fillers)\n",
    "countries = prompt_llm(client, prompt=prompt, role=role).choices[0].message.content\n",
    "countries_list = ast.literal_eval(countries)\n"
   ]
  },
  {
   "cell_type": "markdown",
   "metadata": {},
   "source": [
    "## 2 | News data processing & content matching\n",
    "Goal: \n",
    "- Input all the news data\n",
    "- Join them with the portfolio data table\n",
    "- Add the news content\n"
   ]
  },
  {
   "cell_type": "code",
   "execution_count": null,
   "metadata": {},
   "outputs": [],
   "source": []
  },
  {
   "cell_type": "markdown",
   "metadata": {},
   "source": [
    "### 2.1 Import the news data tables\n",
    "Import the following tables:\n",
    "- cameo_country\n",
    "- cameo_event\n",
    "- news_data"
   ]
  },
  {
   "cell_type": "code",
   "execution_count": null,
   "metadata": {},
   "outputs": [],
   "source": []
  },
  {
   "cell_type": "markdown",
   "metadata": {},
   "source": [
    "### 2.2 Match the news data columns with the portfolio data \n",
    "Based on:\n",
    "- Industry\n",
    "- Involved countries\n",
    "\n",
    "Output should be a table in which every row is a news article and the columns are : news_table --> [newsID, stockID, companyName, EventCode, EventRootCode, GoldsteinScale, AvgTone, Actor1_Geo_Country, Actor2_Geo_Country, ActionGeo_Country, numMentions, NewsUrl, OperationalCountries, TradeMarkets, NewsText, NewsSummary, BinaryImpact, ReasonCallout, RatingImpact]\n",
    "\n",
    "Only the following columns are populated after this step:\n",
    "- newsID\n",
    "- stockID\n",
    "- companyName\n",
    "- EventCode\n",
    "- EventRootCode\n",
    "- GoldsteinScale\n",
    "- AvgTone\n",
    "- Actor1_Geo_Country\n",
    "- Actor2_Geo_Country\n",
    "- ActionGeo_Country\n",
    "- numMentions\n",
    "- NewsUrl\n",
    "- OperationalCountries\n",
    "- TradeMarkets"
   ]
  },
  {
   "cell_type": "code",
   "execution_count": null,
   "metadata": {},
   "outputs": [],
   "source": []
  },
  {
   "cell_type": "markdown",
   "metadata": {},
   "source": [
    "### 2.3 News scraping\n",
    "Scrape the webpage denoted by NewsUrl to obtain the text of the news. \n",
    "Goal: populate the 'NewsText' column in the news_table table"
   ]
  },
  {
   "cell_type": "code",
   "execution_count": null,
   "metadata": {},
   "outputs": [],
   "source": []
  },
  {
   "cell_type": "markdown",
   "metadata": {},
   "source": [
    "## 3 | News x Stock comparison via LLM\n",
    "Goal:\n",
    "- Ask the LLM if the newsarticle (denoted by 'NewsText' column) has a postive or negative impact on the 'companyName' fin product\n",
    "- Ask the LLM why the impact is as such\n",
    "- (Ask the LLM to quantify the impact)\n",
    "- Ask the LLM to summarize the news article (denoted in 'NewsText' column)\n",
    "\n",
    "Python function: `def extract_fillers_from_matched_content(news_table_id:dict) -> dict:\n",
    "    \"\"\"\n",
    "    {\n",
    "        article_id:\n",
    "        {\n",
    "            stock_id:\n",
    "            {\n",
    "                \"actor1_country\":...,\n",
    "                \"actor2_country\":...,\n",
    "                \"action_country\":...,\n",
    "                \"article_text\":...,\n",
    "                ...\n",
    "            }\n",
    "        }\n",
    "    }\n",
    "    \"\"\"`\n",
    "\n",
    "Returns information for the folloiwing columns of the news_table table:\n",
    "- NewsSummary\n",
    "- BinaryImpact\n",
    "- ReasonCallout\n",
    "- RattingImpact\n"
   ]
  },
  {
   "cell_type": "code",
   "execution_count": null,
   "metadata": {},
   "outputs": [],
   "source": []
  },
  {
   "cell_type": "markdown",
   "metadata": {},
   "source": [
    "## 4 | Dashboarding \n",
    "Present the information in the "
   ]
  },
  {
   "cell_type": "code",
   "execution_count": null,
   "metadata": {},
   "outputs": [],
   "source": []
  },
  {
   "cell_type": "code",
   "execution_count": null,
   "metadata": {},
   "outputs": [],
   "source": [
    "from lib.llm.model import model_api_client, prompt_llm\n",
    "from lib.prompting.prompts import create_operational_countries_prompt\n",
    "import ast\n",
    "\n",
    "client = model_api_client()\n",
    "prompt = \"What are the countries in which ASML, the microchip company, operates? Return the answer as a python list of countries names only, no other text, such as ['el1', 'el2',...].\"\n",
    "role = \"You are a financial assistent\"\n",
    "fillers={'stock_id': 'ASML'}\n",
    "\n",
    "create_operational_countries_prompt(fillers)\n",
    "countries = prompt_llm(client, prompt=prompt, role=role).choices[0].message.content\n",
    "countries_list = ast.literal_eval(countries)\n"
   ]
  },
  {
   "cell_type": "code",
   "execution_count": null,
   "metadata": {},
   "outputs": [],
   "source": [
    "# OUTPUT SAMPLE\n",
    "# {\n",
    "#   \"id\": \"cmpl-8a9ba025b8a744e881636351a26e4642\",\n",
    "#   \"object\": \"chat.completion\",\n",
    "#   \"created\": 1697721484,\n",
    "#   \"model\": \"zephyr-chat\",\n",
    "#   \"choices\": [\n",
    "#       {\n",
    "#           \"index\": 0,\n",
    "#           \"message\": {\n",
    "#               \"role\": \"assistant\",\n",
    "#               \"content\": \"There are typically 365 days in a year. However, in a leap year, which occurs every four years, there are 366 days. Leap years are used to account for the extra fraction of a day that is not included in a regular year.\"\n",
    "#           },\n",
    "#           \"finish_reason\": \"stop\"\n",
    "#       }\n",
    "#   ],\n",
    "#   \"usage\": {\n",
    "#       \"prompt_tokens\": 30,\n",
    "#       \"total_tokens\": 90,\n",
    "#       \"completion_tokens\": 60\n",
    "#   }\n",
    "# }"
   ]
  }
 ],
 "metadata": {
  "kernelspec": {
   "display_name": "artefact-hackathon-team-04",
   "language": "python",
   "name": "python3"
  },
  "language_info": {
   "codemirror_mode": {
    "name": "ipython",
    "version": 3
   },
   "file_extension": ".py",
   "mimetype": "text/x-python",
   "name": "python",
   "nbconvert_exporter": "python",
   "pygments_lexer": "ipython3",
   "version": "3.10.14"
  }
 },
 "nbformat": 4,
 "nbformat_minor": 2
}
