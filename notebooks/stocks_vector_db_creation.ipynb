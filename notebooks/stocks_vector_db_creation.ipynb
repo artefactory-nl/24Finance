{
 "cells": [
  {
   "cell_type": "code",
   "execution_count": null,
   "metadata": {},
   "outputs": [],
   "source": [
    "# ! sh ../bin/install_requirements_databricks.sh\n",
    "# dbutils.library.restartPython()"
   ]
  },
  {
   "cell_type": "code",
   "execution_count": null,
   "metadata": {},
   "outputs": [],
   "source": [
    "import sys\n",
    "import os\n",
    "\n",
    "cwd = os.getcwd()\n",
    "repo_path = os.path.abspath(os.path.join(cwd, '..'))\n",
    "if repo_path not in sys.path:\n",
    "    sys.path.append(repo_path)"
   ]
  },
  {
   "cell_type": "code",
   "execution_count": null,
   "metadata": {},
   "outputs": [],
   "source": [
    "import chromadb as db \n",
    "import pandas as pd\n",
    "from langchain_chroma import Chroma\n",
    "from tqdm import tqdm\n",
    "import tomli\n",
    "\n",
    "from lib.llm.model import (\n",
    "    model_api_client,\n",
    "    make_description_of_instrument,\n",
    ")\n",
    "from lib.vector.structure import build_vector_db_structure\n",
    "from lib.embedding.custom_embedding import CustomHuggingFaceEmbeddings\n"
   ]
  },
  {
   "cell_type": "code",
   "execution_count": null,
   "metadata": {},
   "outputs": [],
   "source": [
    "with open(os.path.join(os.path.dirname(os.path.abspath(\"\")), \"config\", \"config.toml\"), \"rb\") as f:\n",
    "    config = tomli.load(f)"
   ]
  },
  {
   "cell_type": "code",
   "execution_count": null,
   "metadata": {},
   "outputs": [],
   "source": [
    "UPDATE = config['general']['UPDATE_STOCKS_DB']\n",
    "UPDATE_PORTFOLIO_DATA = False\n",
    "UPDATE_DB = True\n",
    "collection_name = config['data']['vector_db']['stocks']['stocks_collection_name']\n",
    "id_column = \"stockID\"\n",
    "to_be_embedded_column = \"description\"\n",
    "metadatas_cols = ['name', 'ticker', 'sector','industry','headquarters','description']"
   ]
  },
  {
   "cell_type": "code",
   "execution_count": null,
   "metadata": {},
   "outputs": [],
   "source": [
    "llm_client = model_api_client(config['models']['llm_model_api'])\n",
    "embedding_model = CustomHuggingFaceEmbeddings(model_name=config['models']['embdelling_model_name'])  # sentence-transformers/all-MiniLM-l6-v2"
   ]
  },
  {
   "cell_type": "code",
   "execution_count": null,
   "metadata": {},
   "outputs": [],
   "source": [
    "if UPDATE_PORTFOLIO_DATA:\n",
    "    portfolio_data = pd.read_csv(os.path.join(repo_path, 'data', 'sp500.csv')).dropna().reset_index(drop=True)\n",
    "    portfolio_data = portfolio_data.rename(columns={\n",
    "        'Symbol':'ticker',\n",
    "        'Security':'name',\n",
    "        'GICS Sector':'sector',\n",
    "        'GICS Sub-Industry':'industry',\n",
    "        'Headquarters Location':'headquarters',\n",
    "        }\n",
    "    )\n",
    "    tqdm.pandas(desc='Get Financial Instrument Description')\n",
    "    portfolio_data['description'] = portfolio_data.progress_apply(lambda row: make_description_of_instrument(row, llm_client), axis=1)\n",
    "    portfolio_data.to_csv(os.path.join(repo_path, 'data', 'stocks', 'sp500_enriched.csv'))"
   ]
  },
  {
   "cell_type": "code",
   "execution_count": null,
   "metadata": {},
   "outputs": [],
   "source": [
    "portfolio_data = pd.read_csv(os.path.join(repo_path, config['data']['location'], config['data']['stocks']['location'], config['data']['stocks']['filename'])).dropna().reset_index(drop=True).reset_index().rename(columns={'index': 'stockID'})\n",
    "stocks_db_path = os.path.join(os.path.dirname(os.path.abspath(\"\")), config[\"data\"][\"location\"], config[\"data\"]['vector_db'][\"location\"],config[\"data\"]['vector_db'][\"stocks\"][\"location\"])\n",
    "stocks_chroma_client = db.PersistentClient(path=stocks_db_path)"
   ]
  },
  {
   "cell_type": "code",
   "execution_count": null,
   "metadata": {},
   "outputs": [],
   "source": [
    "if collection_name not in [c.name for c in stocks_chroma_client.list_collections()]:\n",
    "    stocks_chroma_client.create_collection(\n",
    "        name=collection_name,\n",
    "        embedding_function=embedding_model,\n",
    "    )\n",
    "    collection_one = stocks_chroma_client.get_collection(name=collection_name, embedding_function=embedding_model)\n",
    "    vect_db_structure = build_vector_db_structure(portfolio_data, metadatas_cols, id_column, to_be_embedded_column)\n",
    "    collection_one.add(\n",
    "        documents=vect_db_structure['datas'],\n",
    "        metadatas=vect_db_structure['metadatas'],\n",
    "        ids=vect_db_structure['ids']\n",
    "    )\n",
    "else:\n",
    "    if UPDATE_DB:\n",
    "        collection_one = stocks_chroma_client.get_collection(name=collection_name,embedding_function=embedding_model,)\n",
    "        portfolio_data[id_column] = portfolio_data[id_column] + max([int(id) for id in collection_one.get()['ids']])\n",
    "        vect_db_structure = build_vector_db_structure(portfolio_data, metadatas_cols, id_column, to_be_embedded_column)\n",
    "    else:\n",
    "        collection_one = stocks_chroma_client.get_collection(name=collection_name,embedding_function=embedding_model)"
   ]
  },
  {
   "cell_type": "code",
   "execution_count": null,
   "metadata": {},
   "outputs": [],
   "source": [
    "stocks_langchain_chroma = Chroma(\n",
    "    client=stocks_chroma_client,\n",
    "    collection_name= collection_name,\n",
    "    embedding_function=embedding_model,\n",
    ")\n",
    "\n",
    "print(\"There are\", stocks_langchain_chroma._collection.count(), \"in the collection\")"
   ]
  },
  {
   "cell_type": "code",
   "execution_count": null,
   "metadata": {},
   "outputs": [],
   "source": [
    "client = db.PersistentClient(path=stocks_db_path)\n",
    "collection = client.get_collection(name=collection_name, embedding_function=embedding_model)\n",
    "result = collection.query(query_embeddings=embedding_model.embed_query(\"oil\"), n_results=2)"
   ]
  },
  {
   "cell_type": "code",
   "execution_count": null,
   "metadata": {},
   "outputs": [],
   "source": [
    "result['metadatas'][0]"
   ]
  }
 ],
 "metadata": {
  "kernelspec": {
   "display_name": "24Finance",
   "language": "python",
   "name": "python3"
  },
  "language_info": {
   "codemirror_mode": {
    "name": "ipython",
    "version": 3
   },
   "file_extension": ".py",
   "mimetype": "text/x-python",
   "name": "python",
   "nbconvert_exporter": "python",
   "pygments_lexer": "ipython3",
   "version": "3.10.14"
  }
 },
 "nbformat": 4,
 "nbformat_minor": 2
}
