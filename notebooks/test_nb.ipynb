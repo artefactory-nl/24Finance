{
 "cells": [
  {
   "cell_type": "code",
   "execution_count": 1,
   "metadata": {},
   "outputs": [],
   "source": [
    "import sys\n",
    "import os\n",
    "\n",
    "cwd = os.getcwd()\n",
    "repo_path = os.path.abspath(os.path.join(cwd, '..'))\n",
    "if repo_path not in sys.path:\n",
    "    sys.path.append(repo_path)"
   ]
  },
  {
   "cell_type": "code",
   "execution_count": 2,
   "metadata": {},
   "outputs": [],
   "source": [
    "import pandas as pd\n",
    "import tomli"
   ]
  },
  {
   "cell_type": "code",
   "execution_count": 3,
   "metadata": {},
   "outputs": [],
   "source": [
    "with open(os.path.join(os.path.dirname(os.path.abspath(\"\")), \"config\", \"config.toml\"), \"rb\") as f:\n",
    "    config = tomli.load(f)"
   ]
  },
  {
   "cell_type": "code",
   "execution_count": 4,
   "metadata": {},
   "outputs": [],
   "source": [
    "commodities_df = pd.read_csv(os.path.join(repo_path, config[\"data\"][\"location\"], config[\"data\"]['dashboard'][\"location\"],config[\"data\"]['dashboard'][\"filename_commodities\"]))\n",
    "portfolio_df = pd.read_csv(os.path.join(repo_path, config[\"data\"][\"location\"], config[\"data\"]['dashboard'][\"location\"],config[\"data\"]['dashboard'][\"filename_portfolio\"]))"
   ]
  },
  {
   "cell_type": "code",
   "execution_count": 5,
   "metadata": {},
   "outputs": [
    {
     "data": {
      "text/html": [
       "<div>\n",
       "<style scoped>\n",
       "    .dataframe tbody tr th:only-of-type {\n",
       "        vertical-align: middle;\n",
       "    }\n",
       "\n",
       "    .dataframe tbody tr th {\n",
       "        vertical-align: top;\n",
       "    }\n",
       "\n",
       "    .dataframe thead th {\n",
       "        text-align: right;\n",
       "    }\n",
       "</style>\n",
       "<table border=\"1\" class=\"dataframe\">\n",
       "  <thead>\n",
       "    <tr style=\"text-align: right;\">\n",
       "      <th>impact</th>\n",
       "      <th>negative</th>\n",
       "      <th>positive</th>\n",
       "    </tr>\n",
       "    <tr>\n",
       "      <th>sector</th>\n",
       "      <th></th>\n",
       "      <th></th>\n",
       "    </tr>\n",
       "  </thead>\n",
       "  <tbody>\n",
       "    <tr>\n",
       "      <th>Agriculture</th>\n",
       "      <td>34</td>\n",
       "      <td>46</td>\n",
       "    </tr>\n",
       "    <tr>\n",
       "      <th>Energy</th>\n",
       "      <td>7</td>\n",
       "      <td>18</td>\n",
       "    </tr>\n",
       "    <tr>\n",
       "      <th>Metals</th>\n",
       "      <td>12</td>\n",
       "      <td>33</td>\n",
       "    </tr>\n",
       "  </tbody>\n",
       "</table>\n",
       "</div>"
      ],
      "text/plain": [
       "impact       negative  positive\n",
       "sector                         \n",
       "Agriculture        34        46\n",
       "Energy              7        18\n",
       "Metals             12        33"
      ]
     },
     "execution_count": 5,
     "metadata": {},
     "output_type": "execute_result"
    }
   ],
   "source": [
    "commodities_df.groupby('sector')['impact'].value_counts().unstack()"
   ]
  },
  {
   "cell_type": "code",
   "execution_count": 6,
   "metadata": {},
   "outputs": [
    {
     "data": {
      "text/html": [
       "<div>\n",
       "<style scoped>\n",
       "    .dataframe tbody tr th:only-of-type {\n",
       "        vertical-align: middle;\n",
       "    }\n",
       "\n",
       "    .dataframe tbody tr th {\n",
       "        vertical-align: top;\n",
       "    }\n",
       "\n",
       "    .dataframe thead th {\n",
       "        text-align: right;\n",
       "    }\n",
       "</style>\n",
       "<table border=\"1\" class=\"dataframe\">\n",
       "  <thead>\n",
       "    <tr style=\"text-align: right;\">\n",
       "      <th>impact</th>\n",
       "      <th>negative</th>\n",
       "      <th>positive</th>\n",
       "      <th>undetermined</th>\n",
       "    </tr>\n",
       "    <tr>\n",
       "      <th>sector</th>\n",
       "      <th></th>\n",
       "      <th></th>\n",
       "      <th></th>\n",
       "    </tr>\n",
       "  </thead>\n",
       "  <tbody>\n",
       "    <tr>\n",
       "      <th>Consumer Discretionary</th>\n",
       "      <td>1</td>\n",
       "      <td>4</td>\n",
       "      <td>0</td>\n",
       "    </tr>\n",
       "    <tr>\n",
       "      <th>Financials</th>\n",
       "      <td>0</td>\n",
       "      <td>10</td>\n",
       "      <td>0</td>\n",
       "    </tr>\n",
       "    <tr>\n",
       "      <th>Industrials</th>\n",
       "      <td>0</td>\n",
       "      <td>9</td>\n",
       "      <td>1</td>\n",
       "    </tr>\n",
       "    <tr>\n",
       "      <th>Information Technology</th>\n",
       "      <td>0</td>\n",
       "      <td>5</td>\n",
       "      <td>0</td>\n",
       "    </tr>\n",
       "    <tr>\n",
       "      <th>Real Estate</th>\n",
       "      <td>1</td>\n",
       "      <td>9</td>\n",
       "      <td>0</td>\n",
       "    </tr>\n",
       "    <tr>\n",
       "      <th>Utilities</th>\n",
       "      <td>0</td>\n",
       "      <td>10</td>\n",
       "      <td>0</td>\n",
       "    </tr>\n",
       "  </tbody>\n",
       "</table>\n",
       "</div>"
      ],
      "text/plain": [
       "impact                  negative  positive  undetermined\n",
       "sector                                                  \n",
       "Consumer Discretionary         1         4             0\n",
       "Financials                     0        10             0\n",
       "Industrials                    0         9             1\n",
       "Information Technology         0         5             0\n",
       "Real Estate                    1         9             0\n",
       "Utilities                      0        10             0"
      ]
     },
     "execution_count": 6,
     "metadata": {},
     "output_type": "execute_result"
    }
   ],
   "source": [
    "portfolio_df.groupby('sector')['impact'].value_counts().unstack(fill_value=0)"
   ]
  },
  {
   "cell_type": "code",
   "execution_count": 8,
   "metadata": {},
   "outputs": [
    {
     "ename": "ModuleNotFoundError",
     "evalue": "No module named 'matplotlib'",
     "output_type": "error",
     "traceback": [
      "\u001b[0;31m---------------------------------------------------------------------------\u001b[0m",
      "\u001b[0;31mModuleNotFoundError\u001b[0m                       Traceback (most recent call last)",
      "Cell \u001b[0;32mIn[8], line 1\u001b[0m\n\u001b[0;32m----> 1\u001b[0m \u001b[38;5;28;01mimport\u001b[39;00m \u001b[38;5;21;01mmatplotlib\u001b[39;00m\u001b[38;5;21;01m.\u001b[39;00m\u001b[38;5;21;01mpyplot\u001b[39;00m \u001b[38;5;28;01mas\u001b[39;00m \u001b[38;5;21;01mplt\u001b[39;00m\n\u001b[1;32m      3\u001b[0m grouped_counts \u001b[38;5;241m=\u001b[39m commodities_df[commodities_df[\u001b[38;5;124m'\u001b[39m\u001b[38;5;124mimpact\u001b[39m\u001b[38;5;124m'\u001b[39m] \u001b[38;5;241m!=\u001b[39m \u001b[38;5;124m'\u001b[39m\u001b[38;5;124mundetermined\u001b[39m\u001b[38;5;124m'\u001b[39m]\u001b[38;5;241m.\u001b[39mgroupby(\u001b[38;5;124m'\u001b[39m\u001b[38;5;124msector\u001b[39m\u001b[38;5;124m'\u001b[39m)[\u001b[38;5;124m'\u001b[39m\u001b[38;5;124mimpact\u001b[39m\u001b[38;5;124m'\u001b[39m]\u001b[38;5;241m.\u001b[39mvalue_counts()\u001b[38;5;241m.\u001b[39munstack(fill_value\u001b[38;5;241m=\u001b[39m\u001b[38;5;241m0\u001b[39m)\n\u001b[1;32m      5\u001b[0m \u001b[38;5;66;03m# Define colors for the pie charts\u001b[39;00m\n",
      "\u001b[0;31mModuleNotFoundError\u001b[0m: No module named 'matplotlib'"
     ]
    }
   ],
   "source": [
    "import matplotlib.pyplot as plt\n",
    "\n",
    "grouped_counts = commodities_df[commodities_df['impact'] != 'undetermined'].groupby('sector')['impact'].value_counts().unstack(fill_value=0)\n",
    "\n",
    "# Define colors for the pie charts\n",
    "colors = {'positive': 'green', 'negative': 'red'}\n",
    "\n",
    "# Create pie charts for each sector\n",
    "fig, axes = plt.subplots(1, len(grouped_counts), figsize=(15, 5))\n",
    "\n",
    "for ax, (sector, counts) in zip(axes, grouped_counts.iterrows()):\n",
    "    counts = counts[['positive', 'negative']]  # Ensure correct order\n",
    "    ax.pie(counts, labels=counts.index, autopct='%1.1f%%', colors=[colors[label] for label in counts.index])\n",
    "    ax.set_title(sector)\n",
    "\n",
    "plt.tight_layout()\n",
    "plt.show()"
   ]
  },
  {
   "cell_type": "code",
   "execution_count": 4,
   "metadata": {},
   "outputs": [
    {
     "name": "stdout",
     "output_type": "stream",
     "text": [
      "             name       sector         industry\n",
      "0       Crude Oil       Energy        Oil & Gas\n",
      "1     Natural Gas       Energy        Oil & Gas\n",
      "2        Gasoline       Energy        Oil & Gas\n",
      "3     Heating Oil       Energy        Oil & Gas\n",
      "4            Gold       Metals  Precious Metals\n",
      "5          Silver       Metals  Precious Metals\n",
      "6        Platinum       Metals  Precious Metals\n",
      "7       Palladium       Metals  Precious Metals\n",
      "8          Copper       Metals      Base Metals\n",
      "9        Aluminum       Metals      Base Metals\n",
      "10         Nickel       Metals      Base Metals\n",
      "11           Zinc       Metals      Base Metals\n",
      "12       Iron Ore       Metals      Base Metals\n",
      "13          Wheat  Agriculture           Grains\n",
      "14           Corn  Agriculture           Grains\n",
      "15       Soybeans  Agriculture           Grains\n",
      "16           Rice  Agriculture           Grains\n",
      "17         Coffee  Agriculture            Softs\n",
      "18          Sugar  Agriculture            Softs\n",
      "19          Cocoa  Agriculture            Softs\n",
      "20         Cotton  Agriculture            Softs\n",
      "21   Orange Juice  Agriculture            Softs\n",
      "22         Lumber  Agriculture            Softs\n",
      "23      Lean Hogs  Agriculture        Livestock\n",
      "24    Live Cattle  Agriculture        Livestock\n",
      "25  Feeder Cattle  Agriculture        Livestock\n",
      "26           Milk  Agriculture        Livestock\n",
      "27         Rubber  Agriculture       Industrial\n",
      "28           Wool  Agriculture       Industrial\n",
      "29        Ethanol       Energy         Biofuels\n"
     ]
    }
   ],
   "source": [
    "data = {\n",
    "    \"name\": [\n",
    "        \"Crude Oil\", \"Natural Gas\", \"Gasoline\", \"Heating Oil\", \"Gold\", \"Silver\", \n",
    "        \"Platinum\", \"Palladium\", \"Copper\", \"Aluminum\", \"Nickel\", \"Zinc\", \n",
    "        \"Iron Ore\", \"Wheat\", \"Corn\", \"Soybeans\", \"Rice\", \"Coffee\", \"Sugar\", \n",
    "        \"Cocoa\", \"Cotton\", \"Orange Juice\", \"Lumber\", \"Lean Hogs\", \"Live Cattle\", \n",
    "        \"Feeder Cattle\", \"Milk\", \"Rubber\", \"Wool\", \"Ethanol\"\n",
    "    ],\n",
    "    \"sector\": [\n",
    "        \"Energy\", \"Energy\", \"Energy\", \"Energy\", \"Metals\", \"Metals\", \n",
    "        \"Metals\", \"Metals\", \"Metals\", \"Metals\", \"Metals\", \"Metals\", \n",
    "        \"Metals\", \"Agriculture\", \"Agriculture\", \"Agriculture\", \"Agriculture\", \n",
    "        \"Agriculture\", \"Agriculture\", \"Agriculture\", \"Agriculture\", \"Agriculture\", \n",
    "        \"Agriculture\", \"Agriculture\", \"Agriculture\", \"Agriculture\", \"Agriculture\", \n",
    "        \"Agriculture\", \"Agriculture\", \"Energy\"\n",
    "    ],\n",
    "    \"industry\": [\n",
    "        \"Oil & Gas\", \"Oil & Gas\", \"Oil & Gas\", \"Oil & Gas\", \"Precious Metals\", \n",
    "        \"Precious Metals\", \"Precious Metals\", \"Precious Metals\", \"Base Metals\", \n",
    "        \"Base Metals\", \"Base Metals\", \"Base Metals\", \"Base Metals\", \"Grains\", \n",
    "        \"Grains\", \"Grains\", \"Grains\", \"Softs\", \"Softs\", \"Softs\", \"Softs\", \n",
    "        \"Softs\", \"Softs\", \"Livestock\", \"Livestock\", \"Livestock\", \"Livestock\", \n",
    "        \"Industrial\", \"Industrial\", \"Biofuels\"\n",
    "    ]\n",
    "}\n",
    "\n",
    "df = pd.DataFrame(data)\n",
    "print(df)\n"
   ]
  },
  {
   "cell_type": "code",
   "execution_count": 5,
   "metadata": {},
   "outputs": [],
   "source": [
    "df.to_csv(os.path.join(repo_path, config[\"data\"][\"location\"], config[\"data\"]['user'][\"location\"], config[\"data\"]['user']['commodities'][\"location\"],config[\"data\"]['user']['commodities'][\"filename\"]), index=False)"
   ]
  }
 ],
 "metadata": {
  "kernelspec": {
   "display_name": "24Finance",
   "language": "python",
   "name": "python3"
  },
  "language_info": {
   "codemirror_mode": {
    "name": "ipython",
    "version": 3
   },
   "file_extension": ".py",
   "mimetype": "text/x-python",
   "name": "python",
   "nbconvert_exporter": "python",
   "pygments_lexer": "ipython3",
   "version": "3.10.14"
  }
 },
 "nbformat": 4,
 "nbformat_minor": 2
}
