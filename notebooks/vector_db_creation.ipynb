{
 "cells": [
  {
   "cell_type": "code",
   "execution_count": 13,
   "metadata": {},
   "outputs": [],
   "source": [
    "import sys\n",
    "import os\n",
    "\n",
    "cwd = os.getcwd()\n",
    "repo_path = os.path.abspath(os.path.join(cwd, '..'))\n",
    "if repo_path not in sys.path:\n",
    "    sys.path.append(repo_path)\n",
    "\n",
    "import chromadb as db \n",
    "\n",
    "from langchain_community.embeddings.sentence_transformer import (\n",
    "    SentenceTransformerEmbeddings,\n",
    ")\n",
    "import pandas as pd\n",
    "from lib.utils import clean_scraped_text\n",
    "from lib.vector.structure import build_vector_db_structure"
   ]
  },
  {
   "cell_type": "code",
   "execution_count": 14,
   "metadata": {},
   "outputs": [
    {
     "name": "stderr",
     "output_type": "stream",
     "text": [
      "/Users/albertostella/repos/artefact-hackathon-team-04/lib/utils.py:45: MarkupResemblesLocatorWarning: The input looks more like a filename than markup. You may want to open this file and pass the filehandle into Beautiful Soup.\n",
      "  text = BeautifulSoup(text, 'html.parser').get_text().encode('utf-8').decode('unicode_escape')\n"
     ]
    }
   ],
   "source": [
    "news_data = (\n",
    "    pd.read_csv('news_data_processed.csv')\n",
    "    [\n",
    "        ['EventId', 'Date', 'ArticleUrl', 'NumMentions', 'AvgTone', 'GoldsteinScale', 'news_title', 'news_summary', 'news_content']\n",
    "    ]\n",
    "    .drop_duplicates(subset=['ArticleUrl'], keep='first')\n",
    "    .reset_index(drop=True)\n",
    ")\n",
    "\n",
    "news_data['news_content'] = news_data['news_content'].apply(clean_scraped_text)\n",
    "metadatas_cols = ['Date','ArticleUrl','NumMentions','AvgTone','GoldsteinScale']\n",
    "vect_db_structure = build_vector_db_structure(news_data, metadatas_cols, 'EventId', 'news_content')"
   ]
  },
  {
   "cell_type": "code",
   "execution_count": 16,
   "metadata": {},
   "outputs": [
    {
     "name": "stderr",
     "output_type": "stream",
     "text": [
      "/Users/albertostella/mambaforge/envs/artefact-hackathon-team-04/lib/python3.10/site-packages/tqdm/auto.py:21: TqdmWarning: IProgress not found. Please update jupyter and ipywidgets. See https://ipywidgets.readthedocs.io/en/stable/user_install.html\n",
      "  from .autonotebook import tqdm as notebook_tqdm\n",
      "huggingface/tokenizers: The current process just got forked, after parallelism has already been used. Disabling parallelism to avoid deadlocks...\n",
      "To disable this warning, you can either:\n",
      "\t- Avoid using `tokenizers` before the fork if possible\n",
      "\t- Explicitly set the environment variable TOKENIZERS_PARALLELISM=(true | false)\n",
      "/Users/albertostella/mambaforge/envs/artefact-hackathon-team-04/lib/python3.10/site-packages/huggingface_hub/file_download.py:1132: FutureWarning: `resume_download` is deprecated and will be removed in version 1.0.0. Downloads always resume when possible. If you want to force a new download, use `force_download=True`.\n",
      "  warnings.warn(\n"
     ]
    }
   ],
   "source": [
    "embedding_model = SentenceTransformerEmbeddings(model_name=\"thenlper/gte-small\")\n"
   ]
  },
  {
   "cell_type": "code",
   "execution_count": 17,
   "metadata": {},
   "outputs": [],
   "source": [
    "db_path = os.path.join(os.path.dirname(os.path.abspath(\"\")), \"data\", \"vector_db\")\n",
    "chroma_client = db.PersistentClient(path=db_path)\n",
    "collection_name = \"news\"\n",
    "if collection_name not in [c.name for c in chroma_client.list_collections()]:\n",
    "    chroma_client.create_collection(\n",
    "        name=collection_name,\n",
    "        metadata={\"hnsw:space\": \"cosine\"},\n",
    "        embedding_function=embedding_model,\n",
    "    )\n",
    "    collection_one = chroma_client.get_collection(name=collection_name)\n",
    "    collection_one.add(\n",
    "        documents=vect_db_structure['datas'],\n",
    "        metadatas=vect_db_structure['metadatas'],\n",
    "        ids=vect_db_structure['ids']\n",
    "    )\n",
    "else:\n",
    "    collection_one = chroma_client.get_collection(name=collection_name)"
   ]
  },
  {
   "cell_type": "code",
   "execution_count": 18,
   "metadata": {},
   "outputs": [
    {
     "name": "stdout",
     "output_type": "stream",
     "text": [
      "There are 68 in the collection\n"
     ]
    }
   ],
   "source": [
    "from langchain_chroma import Chroma\n",
    "\n",
    "langchain_chroma = Chroma(\n",
    "    client=chroma_client,\n",
    "    collection_name=\"news\",\n",
    "    embedding_function=embedding_model,\n",
    ")\n",
    "\n",
    "print(\"There are\", langchain_chroma._collection.count(), \"in the collection\")"
   ]
  },
  {
   "cell_type": "code",
   "execution_count": 20,
   "metadata": {},
   "outputs": [
    {
     "data": {
      "text/plain": [
       "'Ukrainian and Western leaders laud US aid package while the Kremlin warns of further ruin Ukrainian and Western leaders have welcomed the passing of a desperately needed aid package for Ukraine by the US House of Representatives\\n\\nPresident Joe Biden has signed a  billion aid package into law providing crucial military assistance to Ukraine and Israel The package which was passed by the Senate on Tuesday April  includes nearly  billion in aid to Ukraine  billion for Israel and  billion for the IndoPacific region The legislation also includes a provision that could lead to the banning of TikTok in the United States Speaking from the White House after signing the bill Biden described it as a good day for America a good day for Ukraine and a good day for world peace He added that the aid package is going to make America safer Its going to make the world safer And it continues Americas leadership in the world The signing of the aid package follows months of negotiations and personal lobbying from Ukrainian President Volodymyr Zelensky The aid package will provide immediate military supplies to Ukraine including airdefense equipment munitions for artillery and rocket systems and armored vehicles The Pentagon announced a  billion aid package for Ukraine shortly after Biden signed the bill into law The bill also includes a mandate that ByteDance TikToks Chinabased parent company sell the social media platform within nine months with a possible threemonth extension if a sale is in progress Failure to comply could result in TikTok being banned from US app stores and internet hosting services effectively restricting new downloads and interaction with its content The legislation is a response to longstanding bipartisan concerns in Washington over potential Chinese threats and the ownership of TikTok which is used by  million Americans Lawmakers and administration officials have expressed concerns that Chinese authorities could force ByteDance to hand over US user data or influence Americans by suppressing or promoting certain content on TikTok However TikTok is preparing to challenge the legislation in court At the stage that the bill is signed we will move to the courts for a legal challenge Michael Beckerman TikToks head of public policy for the Americas wrote in a memo sent to employees on Saturday and obtained by The Associated Press Despite the potential legal battle TikTok users can continue using the app as before However they might begin to see more creators or the company itself speaking out in the app to oppose the legislation\\n\\nSpeaker of the House Mike Johnson RLa talks to reporters just after the House voted to approve  billion in foreign aid for Ukraine Israel and other US allies at the Capitol in Washington Saturday April   AP PhotoJ Scott Applewhite WASHINGTON  The House has approved  billion in foreign aid for Ukraine Israel and other US allies in a rare weekend session as Democrats and Republicans banded together after months of hardright resistance over renewed American support for repelling Russia’s invasion With an overwhelming vote Saturday the  billion in aid for Ukraine passed in a matter of minutes a strong showing as American lawmakers race to deliver a fresh round of US support to the wartorn ally Many Democrats cheered on the House floor and waved blueandyellow flags of Ukraine Recommended Videos Aid to Israel and the other allies also won approval by healthy margins as did a measure to clamp down on the popular platform TikTok with unique coalitions forming to push the separate bills forward The whole package will go to the Senate which could pass it as soon as Tuesday President Joe Biden has promised to sign it immediately “We did our work here and I think history will judge it well” said a weary Speaker Mike Johnson RLa who risked his own job to marshal the package to passage Biden spoke separately with Johnson and Democratic leader Hakeem Jeffries to thank them for “putting our national security first” by advancing the legislation the White House said “I urge the Senate to quickly send this package to my desk so that I can sign it into law and we can quickly send weapons and equipment to Ukraine to meet their urgent battlefield needs” the president said President Volodymyr Zelenskyy of Ukraine said he was “grateful” to both parties in the House and “personally Speaker Mike Johnson for the decision that keeps history on the right track” he said on X formerly Twitter “Thank you America” he said The scene in Congress was a striking display of action after months of dysfunction and stalemate fueled by Republicans who hold the majority but are deeply split over foreign aid particularly for Ukraine Johnson relied on Democrats to ensure the military and humanitarian funding — the first major package for Ukraine since December  — won approval The morning opened with a somber and serious debate and an unusual sense of purpose as Republican and Democratic leaders united to urge quick approval saying that would ensure the United States supported its allies and remained a leader on the world stage The House’s visitor galleries were crowded with onlookers “The eyes of the world are upon us and history will judge what we do here and now” said Rep Michael McCaul RTexas chairman of the House Foreign Affairs Committee Passage through the House cleared away the biggest hurdle to Biden’s funding request first made in October as Ukraine’s military supplies began to run low The GOPcontrolled House struggled for months over what to do first demanding that any assistance for Ukraine be tied to policy changes at the USMexico border only to immediately reject a bipartisan Senate offer along those very lines Reaching an endgame has been an excruciating lift for Johnson that has tested both his resolve and his support among Republicans with a small but growing number now openly urging his removal from the speaker’s office Yet congressional leaders cast the votes as a turning point in history — an urgent sacrifice as US allies are beleaguered by wars and threats from continental Europe to the Middle East to the IndoPacific “Sometimes when you are living history as we are today you don’t understand the significance of the actions of the votes that we make on this House floor of the effect that it will have down the road” said New York Rep Gregory Meeks the top Democrat on the House Foreign Affairs Committee “This is a historic moment” Opponents particularly the hardright Republicans from Johnson’s majority argued that the US should focus on the home front addressing domestic border security and the nation’s rising debt load and they warned against spending more money which largely flows to American defense manufacturers to produce weaponry used overseas Still Congress has seen a stream of world leaders visit in recent months from Zelenskyy to Japanese Prime Minister Fumio Kishida all but pleading with lawmakers to approve the aid Globally the delay left many questioning America’s commitment to its allies At stake has been one of Biden’s top foreign policy priorities — halting Russian President Vladimir Putin’s advance in Europe After engaging in quiet talks with Johnson the president quickly endorsed Johnson’s plan paving the way for Democrats to give their rare support to clear the procedural hurdles needed for a final vote “We have a responsibility not as Democrats or Republicans but as Americans to defend democracy wherever it is at risk” Jeffries said during the debate While aid for Ukraine failed to win a majority of Republicans several dozen progressive Democrats voted against the bill aiding Israel as they demanded an end to the bombardment of Gaza that has killed thousands of civilians A group of roughly  hardright Republicans voted against every portion of the aid package including for allies like Israel and Taiwan that have traditionally enjoyed support from the GOP Some Republicans also angrily objected to their counterparts waving Ukrainian flags during the vote Rep Kat Cammack a Florida Republican said on X she was “infuriated” by the display and was working on legislation to prohibit the flags of foreign nations on the House floor At the same time Donald Trump the presumptive Republican presidential nominee has loomed large over the fight weighing in from afar via social media statements and direct phone calls with lawmakers as he tilts the GOP to a more isolationist stance with his “America First” brand of politics Ukraine’s defense once enjoyed robust bipartisan support in Congress but as the war enters its third year a majority of Republicans opposed further aid Trump ally Rep Marjorie Taylor Greene RGa offered an amendment to zero out the money but it was rejected The ultraconservative House Freedom Caucus has derided the legislation as the “America Last” foreign wars package and urged lawmakers to defy Republican leadership and oppose it because the bills did not include border security measures Johnson’s hold on the speaker’s gavel has also grown more tenuous in recent days as three Republicans led by Greene supported a “motion to vacate” that can lead to a vote on removing the speaker Egged on by farright personalities she is also being joined by a growing number of lawmakers including Reps Paul Gosar RAriz and Thomas Massie RKy who is urging Johnson to voluntarily step aside The package included several Republican priorities that Democrats endorsed or at least are willing to accept Those include proposals that allow the US to seize frozen Russian central bank assets to rebuild Ukraine impose sanctions on Iran Russia China and criminal organizations that traffic fentanyl and legislation to require the Chinabased owner of the popular video app TikTok to sell its stake within a year or face a ban in the United States Still the allout push to get the bills through Congress is a reflection not only of politics but realities on the ground in Ukraine Top lawmakers on national security committees who are privy to classified briefings have grown gravely concerned about the tide of the war as Russia pummels Ukrainian forces beset by a shortage of troops and ammunition Senate Majority Leader Chuck Schumer DNY announced the Senate would begin procedural votes on the package Tuesday saying “Our allies across the world have been waiting for this moment” Senate Republican Leader Mitch McConnell as he prepared to overcome objections from his right flank next week said “The task before us is urgent It is once again the Senate’s turn to make history”\\n\\nThe American and Ukrainian flags wave in the wind outside of the Capitol on Tuesday April   in Washington The Senate is moving ahead with  billion in war aid to Ukraine Israel and Taiwan AP PhotoMariam Zuhaib WASHINGTON AP — The Senate has passed  billion in war aid to Ukraine Israel and Taiwan sending the legislation to President Joe Biden after months of delays and contentious debate over how involved the United States should be in foreign wars The bill passed the Senate on an overwhelming  vote late Tuesday after the House had approved the package Saturday Biden who worked with congressional leaders to win support said in a statement immediately after passage that he will sign it Wednesday and start the process of sending weapons to Ukraine which has been struggling to hold its front lines against Russia “Tonight a bipartisan majority in the Senate joined the House to answer history’s call at this critical inflection point” Biden said The legislation would also send  billion in wartime assistance to Israel and humanitarian relief to citizens of Gaza and  billion to counter Chinese threats in Taiwan and the IndoPacific US officials said about  billion of the aid could be on its way shortly with the bulk following in coming weeks In an interview with The Associated Press shortly before the vote Senate Majority Leader Chuck Schumer DNY said that if Congress hadn’t passed the aid “America would have paid a price economically politically militarily “Very few things we have done have risen to this level of historic importance” he said On the Senate floor Schumer said the Senate was sending a message to US allies “We will stand with you” Schumer and Senate Republican Leader Mitch McConnell made passage of the legislation a top priority agreeing to tie the Ukraine and Israel aid to help ensure passage and arguing there could be dire consequences for the United States and many of its global allies if Russian President Vladimir Putins aggression is left unchecked They worked with House Speaker Mike Johnson a Republican to overcome seemingly intractable Republican opposition to the Ukraine aid in particular — eventually winning large majorities in both chambers McConnell said in a separate interview before the vote that it is one of the biggest days in the time that I’ve been here” “At least on this episode I think we turned the tables on the isolationists McConnell said In the end  Republicans voted for the aid package — nine more than when the Senate passed a similar version in February and a majority of the Senate GOP conference The House approved the package in a series of four votes on Saturday with the Ukraine portion passing  The  billion for Ukraine comes as the wartorn country desperately needs new firepower and as Russian President Vladimir Putin has stepped up his attacks Ukrainian soldiers have struggled as Russia has seized the momentum on the battlefield and gained significant territory Bidentold Ukrainian President Volodymyr Zelenskyy on Monday the US will send badly needed air defense weaponry as soon as the legislation is passed “The President has assured me that the package will be approved quickly and that it will be powerful strengthening our air defense as well as longrange and artillery capabilities” Zelenskyy said in a post on X on Monday In an effort to gain more votes Republicans in the House majority also added a bill to the foreign aid package that could ban the social media app TikTok in the US if its Chinese owners do not sell their stake within a year That legislation had wide bipartisan support in both chambers The TikTok bill was one of several tweaks Johnson made to the package the Senate passed in February as he tried to move the bill through the House despite significant opposition within his conference Other additions include a stipulation that  billion of the economic assistance to Ukraine is in the form of “forgivable loans provisions that allow the US to seize frozen Russian central bank assets to rebuild Ukraine and bills to impose sanctions on Iran Russia China and criminal organizations that traffic fentanyl Those changes appears to have brought some of the nine additional Senate Republicans on board bringing support to more than half of McConnell’s conference South Carolina Sen Lindsey Graham a longtime hawk who voted against the foreign aid package in February because it wasn’t paired with legislation to stem migration at the border was one of the Republicans who switched their votes “If we dont help Ukraine now this war will spread and Americans who are not involved will be involved” Graham said The package has had broad congressional support since Biden first requested the money last summer But congressional leaders had to navigate strong opposition from a growing number of conservatives who question US involvement in foreign wars and argue that Congress should be focused instead on the surge of migration at the USMexico border Ohio Sen JD Vance a Republican who is a close ally to Donald Trump said that despite the strong showing of support for funding Ukraine’s defense opposition is growing among Republicans “The United States is spread too thin Vance said And that argument I think is winning the American people and it’s slowly winning the Senate but it’s not going to happen overnight” The growing fault line in the GOP between those conservatives who are skeptical of the aid and the more traditional “Reagan Republicans who strongly support it may prove to be careerdefining for the two top Republican leaders McConnell who has made the Ukraine aid a top priority said last month that he would step down from leadership after becoming increasingly distanced from many in his conference on the Ukraine aid and other issues Johnson who said he put the bills on the floor after praying for guidance faces threats of an ouster after a majority of Republicans voted against the aid to Ukraine Johnson said after House passage that “we did our work here and I think history will judge it well Opponents in the Senate like the House included some leftwing senators who are opposed to aiding Israel as Prime Minister Benjamin Netanyahu has bombarded Gaza and killed thousands of civilians Sens Bernie Sanders IVt and Jeff Merkley DOre voted against the package “We must end our complicity in this terrible war” Sanders said\\n\\nThe White House plans to expand coordination and support to  countries in a new worldwide effort to spot and stop pandemic risks The Biden administration will work with other countries on a new effort to improve infectious disease testing and surveillance before outbreaks can threaten to become global pandemics The partnership is meant to deliver national defense benefits for America and its global interests But the White House notes that The most effective way to mitigate the impact of health security threats is to prevent detect and contain them at their source The Strategy focuses on working with countries around the world to ensure they are better able to prevent detect and respond to global health security threats The new expansion will reach more countries in Africa and Asia where it will work to reduce the burden on health systems and workers that comes not just from COVID but also from ongoing outbreaks of mpox Ebola cholera polio dengue and malaria Newest COVID shots are  effective in preventing symptoms CDC finds Newest COVID shots are  effective in preventing symptoms CDC finds The CDC recommends the new shots for everyone  months and older but most Americans havent gotten them LEARN MORE Multiple US agencies will lend their support including the US State Department the Centers for Disease Control and Prevention the Department of Health and Human Services and the US Agency for International Development The new US effort is not meant to replace other international agreements such as the pandemic response accord in the works at the World Health Organization A senior administration official said the US program would go forward regardless of other global mitigation efforts'"
      ]
     },
     "execution_count": 20,
     "metadata": {},
     "output_type": "execute_result"
    }
   ],
   "source": [
    "query=\"The US is sending military aid to Ukraine\"\n",
    "docs_chroma = langchain_chroma.similarity_search_with_score(query, k=5)\n",
    "\"\\n\\n\".join([doc.page_content for doc, _score in docs_chroma])"
   ]
  }
 ],
 "metadata": {
  "kernelspec": {
   "display_name": "artefact-hackathon-team-04",
   "language": "python",
   "name": "python3"
  },
  "language_info": {
   "codemirror_mode": {
    "name": "ipython",
    "version": 3
   },
   "file_extension": ".py",
   "mimetype": "text/x-python",
   "name": "python",
   "nbconvert_exporter": "python",
   "pygments_lexer": "ipython3",
   "version": "3.10.14"
  }
 },
 "nbformat": 4,
 "nbformat_minor": 2
}
