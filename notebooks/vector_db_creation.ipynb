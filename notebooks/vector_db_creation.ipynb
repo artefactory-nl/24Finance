{
 "cells": [
  {
   "cell_type": "code",
   "execution_count": 1,
   "metadata": {},
   "outputs": [],
   "source": [
    "# ! sh ../bin/install_requirements_databricks.sh\n",
    "# dbutils.library.restartPython()"
   ]
  },
  {
   "cell_type": "code",
   "execution_count": 2,
   "metadata": {},
   "outputs": [],
   "source": [
    "import sys\n",
    "import os\n",
    "\n",
    "cwd = os.getcwd()\n",
    "repo_path = os.path.abspath(os.path.join(cwd, '..'))\n",
    "if repo_path not in sys.path:\n",
    "    sys.path.append(repo_path)"
   ]
  },
  {
   "cell_type": "code",
   "execution_count": null,
   "metadata": {},
   "outputs": [],
   "source": [
    "import chromadb as db \n",
    "import pandas as pd\n",
    "from langchain_chroma import Chroma\n",
    "\n",
    "from lib.vector.structure import build_vector_db_structure\n",
    "from lib.scraping.scrap import collect_rss_feed, extract_news_content_from_url_to_dataframe, load_rss_urls_from_config\n",
    "from lib.embedding.custom_embedding import CustomHuggingFaceEmbeddings"
   ]
  },
  {
   "cell_type": "code",
   "execution_count": 3,
   "metadata": {},
   "outputs": [],
   "source": [
    "READ_RSS = False        \n",
    "SCRAP_ARTICLES_CONTENT = False\n",
    "UPDATE = True"
   ]
  },
  {
   "cell_type": "code",
   "execution_count": 4,
   "metadata": {},
   "outputs": [],
   "source": [
    "if READ_RSS:\n",
    "    rss_urls = load_rss_urls_from_config(os.path.join(repo_path, 'config', 'rss_urls.yaml'))\n",
    "    rss_feed_df = collect_rss_feed(rss_urls)\n",
    "    rss_feed_df.to_csv(os.path.join(repo_path, 'data', 'rss_feed_df.csv'), index=False)"
   ]
  },
  {
   "cell_type": "code",
   "execution_count": 5,
   "metadata": {},
   "outputs": [],
   "source": [
    "if SCRAP_ARTICLES_CONTENT:\n",
    "    rss_feed_df = pd.read_csv(os.path.join(repo_path, 'data', 'rss_feed_df.csv'))\n",
    "    rss_feed_df = extract_news_content_from_url_to_dataframe(rss_feed_df, url_column = 'Link', output_column = 'Content')\n",
    "    rss_feed_df.to_csv(os.path.join(repo_path, 'data', 'rss_feed_with_content_df.csv'), index=False)\n"
   ]
  },
  {
   "cell_type": "code",
   "execution_count": 6,
   "metadata": {},
   "outputs": [],
   "source": [
    "news_data = pd.read_csv(os.path.join(repo_path, 'data', 'rss_feed_with_content_df.csv')).dropna().reset_index()\n",
    "metadatas_cols = ['Published','Link','Title','Source','Summary']"
   ]
  },
  {
   "cell_type": "code",
   "execution_count": 8,
   "metadata": {},
   "outputs": [
    {
     "name": "stderr",
     "output_type": "stream",
     "text": [
      "/Users/albertostella/mambaforge/envs/artefact-hackathon-team-04/lib/python3.10/site-packages/tqdm/auto.py:21: TqdmWarning: IProgress not found. Please update jupyter and ipywidgets. See https://ipywidgets.readthedocs.io/en/stable/user_install.html\n",
      "  from .autonotebook import tqdm as notebook_tqdm\n",
      "/Users/albertostella/mambaforge/envs/artefact-hackathon-team-04/lib/python3.10/site-packages/huggingface_hub/file_download.py:1132: FutureWarning: `resume_download` is deprecated and will be removed in version 1.0.0. Downloads always resume when possible. If you want to force a new download, use `force_download=True`.\n",
      "  warnings.warn(\n"
     ]
    }
   ],
   "source": [
    "embedding_model = CustomHuggingFaceEmbeddings(model_name=\"thenlper/gte-small\")  # sentence-transformers/all-MiniLM-l6-v2"
   ]
  },
  {
   "cell_type": "code",
   "execution_count": 9,
   "metadata": {},
   "outputs": [],
   "source": [
    "db_path = os.path.join(os.path.dirname(os.path.abspath(\"\")), \"data\", \"vector_db\")\n",
    "chroma_client = db.PersistentClient(path=db_path)\n",
    "collection_name = \"news\"\n",
    "if collection_name not in [c.name for c in chroma_client.list_collections()]:\n",
    "    chroma_client.create_collection(\n",
    "        name=collection_name,\n",
    "        metadata={\"hnsw:space\": \"cosine\"},\n",
    "        embedding_function=embedding_model,\n",
    "    )\n",
    "    collection_one = chroma_client.get_collection(name=collection_name)\n",
    "    vect_db_structure = build_vector_db_structure(news_data, metadatas_cols, 'index', 'Content')\n",
    "    collection_one.add(\n",
    "        documents=vect_db_structure['datas'],\n",
    "        metadatas=vect_db_structure['metadatas'],\n",
    "        ids=vect_db_structure['ids']\n",
    "    )\n",
    "else:\n",
    "    if UPDATE==True:\n",
    "        collection_one = chroma_client.get_collection(name=collection_name)\n",
    "        news_data['index'] = news_data['index'] + max([int(id) for id in collection_one.get()['ids']])\n",
    "        vect_db_structure = build_vector_db_structure(news_data, metadatas_cols, 'index', 'Content')\n",
    "    else:\n",
    "        collection_one = chroma_client.get_collection(name=collection_name)"
   ]
  },
  {
   "cell_type": "code",
   "execution_count": 10,
   "metadata": {},
   "outputs": [
    {
     "name": "stdout",
     "output_type": "stream",
     "text": [
      "There are 1013 in the collection\n"
     ]
    }
   ],
   "source": [
    "langchain_chroma = Chroma(\n",
    "    client=chroma_client,\n",
    "    collection_name=\"news\",\n",
    "    embedding_function=embedding_model,\n",
    ")\n",
    "\n",
    "print(\"There are\", langchain_chroma._collection.count(), \"in the collection\")"
   ]
  },
  {
   "cell_type": "code",
   "execution_count": 11,
   "metadata": {},
   "outputs": [],
   "source": [
    "query=\"Tesla stocks\"\n",
    "docs_chroma = langchain_chroma.similarity_search_with_score(query, k=5)"
   ]
  },
  {
   "cell_type": "code",
   "execution_count": 12,
   "metadata": {},
   "outputs": [
    {
     "data": {
      "text/plain": [
       "(Document(page_content='CNN — It’s time for investors to start making safer bets That’s what Howard Marks cochairman of Oaktree Capital told CNNMoney editoratlarge Richard Quest on “Markets Now” on Wednesday “Defense is more important than offense” right now said Marks the author of “Mastering the Market Cycle Getting the Odds on Your Side” Investors should consider taking a stake in utilities and decreasing their investments in more volatile tech stocks he said Defense is the name of the game for a few reasons Though stocks have been soaring Marks warned that we may be nearing the end of the bull cycle “I’m not saying get out” he said “I think that being out of the market is pretty dangerous today and I think it would be a mistake to raise cash” But more reliable stocks can protect investors from big losses if the climate changes Marks also pointed to the trade war with China as another reason for investors to tread carefully “We have a trade battle with China it’s probably going to get solved but it may go off the rails” he said “And if it goes off the rails it has very serious consequences for the world economy” CNNMoneys Markets Now streams live from the NYSE every Wednesday at  pm ET CNN “Markets Now” streams live from the New York Stock Exchange every Wednesday at  pm ET Hosted by CNNMoney’s business correspondents the minute program features incisive commentary from experts You can watch “Markets Now” at CNNMoneycomMarketsNow from your desk or on your phone or tablet If you can’t catch the show live check out highlights online and through the Markets Now newsletter delivered to your inbox every afternoon', metadata={'Link': 'http://money.cnn.com/2018/10/03/investing/markets-now-investing-defense/index.html?section=money_topstories', 'Published': 'Wed, 03 Oct 2018 23:28:41 EDT', 'Source': 'rss.cnn.com', 'Summary': 'Howard Marks, co-chairman of Oaktree Capital, explains why investors should start treading lightly.', 'Title': \"Why it's time for investors to go on the defense\"}),\n",
       " 0.7846630811691284)"
      ]
     },
     "execution_count": 12,
     "metadata": {},
     "output_type": "execute_result"
    }
   ],
   "source": [
    "docs_chroma[-1]"
   ]
  }
 ],
 "metadata": {
  "kernelspec": {
   "display_name": "artefact-hackathon-team-04",
   "language": "python",
   "name": "python3"
  },
  "language_info": {
   "codemirror_mode": {
    "name": "ipython",
    "version": 3
   },
   "file_extension": ".py",
   "mimetype": "text/x-python",
   "name": "python",
   "nbconvert_exporter": "python",
   "pygments_lexer": "ipython3",
   "version": "3.10.14"
  }
 },
 "nbformat": 4,
 "nbformat_minor": 2
}
