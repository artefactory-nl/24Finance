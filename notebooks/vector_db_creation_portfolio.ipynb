{
 "cells": [
  {
   "cell_type": "code",
   "execution_count": null,
   "metadata": {},
   "outputs": [],
   "source": [
    "# ! sh ../bin/install_requirements_databricks.sh\n",
    "# dbutils.library.restartPython()"
   ]
  },
  {
   "cell_type": "code",
   "execution_count": null,
   "metadata": {},
   "outputs": [],
   "source": [
    "import sys\n",
    "import os\n",
    "\n",
    "cwd = os.getcwd()\n",
    "repo_path = os.path.abspath(os.path.join(cwd, '..'))\n",
    "if repo_path not in sys.path:\n",
    "    sys.path.append(repo_path)"
   ]
  },
  {
   "cell_type": "code",
   "execution_count": null,
   "metadata": {},
   "outputs": [],
   "source": [
    "import chromadb as db \n",
    "import pandas as pd\n",
    "from langchain_chroma import Chroma\n",
    "\n",
    "from lib.llm.model import (\n",
    "    model_api_client,\n",
    "    make_description_of_instrument,\n",
    ")\n",
    "from lib.vector.structure import build_vector_db_structure\n",
    "from lib.embedding.custom_embedding import CustomHuggingFaceEmbeddings\n"
   ]
  },
  {
   "cell_type": "code",
   "execution_count": null,
   "metadata": {},
   "outputs": [],
   "source": [
    "UPDATE = True\n",
    "collection_name = \"portfolio\"\n",
    "id_column = \"ticker\"\n",
    "to_be_embedded_column = \"description\"\n",
    "metadatas_cols = ['name','sector','industry','headquarters','description']"
   ]
  },
  {
   "cell_type": "code",
   "execution_count": null,
   "metadata": {},
   "outputs": [],
   "source": [
    "client = model_api_client()\n",
    "embedding_model = CustomHuggingFaceEmbeddings(model_name=\"thenlper/gte-small\")  # sentence-transformers/all-MiniLM-l6-v2"
   ]
  },
  {
   "cell_type": "code",
   "execution_count": null,
   "metadata": {},
   "outputs": [],
   "source": [
    "if UPDATE:\n",
    "    portfolio_data = pd.read_csv(os.path.join(repo_path, 'data', 'sp500.csv')).dropna().reset_index(drop=True)\n",
    "    portfolio_data = portfolio_data.rename(columns={\n",
    "        'Symbol':'ticker',\n",
    "        'Security':'name',\n",
    "        'GICS Sector':'sector',\n",
    "        'GICS Sub-Industry':'industry',\n",
    "        'Headquarters Location':'headquarters',\n",
    "        }\n",
    "    )\n",
    "\n",
    "    portfolio_data['description'] = portfolio_data.apply(lambda row: make_description_of_instrument(row, client), axis=1)\n",
    "    portfolio_data.to_csv(os.path.join(repo_path, 'data', 'sp500_enriched.csv'))"
   ]
  },
  {
   "cell_type": "code",
   "execution_count": null,
   "metadata": {},
   "outputs": [],
   "source": [
    "db_path = os.path.join(os.path.dirname(os.path.abspath(\"\")), \"data\", \"portfolio_vector_db\")\n",
    "chroma_client = db.PersistentClient(path=db_path)\n",
    "\n",
    "\n",
    "if collection_name not in [c.name for c in chroma_client.list_collections()]:\n",
    "    chroma_client.create_collection(\n",
    "        name=collection_name,\n",
    "        metadata={\"hnsw:space\": \"cosine\"},\n",
    "        embedding_function=embedding_model,\n",
    "    )\n",
    "    collection_one = chroma_client.get_collection(name=collection_name)\n",
    "    vect_db_structure = build_vector_db_structure(portfolio_data, metadatas_cols, id_column, to_be_embedded_column)\n",
    "    collection_one.add(\n",
    "        documents=vect_db_structure['datas'],\n",
    "        metadatas=vect_db_structure['metadatas'],\n",
    "        ids=vect_db_structure['ids']\n",
    "    )\n",
    "else:\n",
    "    if UPDATE:\n",
    "        collection_one = chroma_client.get_collection(name=collection_name)\n",
    "        portfolio_data[id_column] = portfolio_data[id_column] + max([int(id) for id in collection_one.get()['ids']])\n",
    "        vect_db_structure = build_vector_db_structure(portfolio_data, metadatas_cols, id_column, to_be_embedded_column)\n",
    "    else:\n",
    "        collection_one = chroma_client.get_collection(name=collection_name)"
   ]
  },
  {
   "cell_type": "code",
   "execution_count": null,
   "metadata": {},
   "outputs": [],
   "source": [
    "langchain_chroma = Chroma(\n",
    "    client=chroma_client,\n",
    "    collection_name= collection_name,\n",
    "    embedding_function=embedding_model,\n",
    ")\n",
    "\n",
    "print(\"There are\", langchain_chroma._collection.count(), \"in the collection\")"
   ]
  },
  {
   "cell_type": "code",
   "execution_count": null,
   "metadata": {},
   "outputs": [],
   "source": [
    "query=\"Tesla\"\n",
    "docs_chroma = langchain_chroma.similarity_search_with_score(query, k=5)"
   ]
  },
  {
   "cell_type": "code",
   "execution_count": null,
   "metadata": {},
   "outputs": [],
   "source": [
    "docs_chroma[-1]"
   ]
  }
 ],
 "metadata": {
  "kernelspec": {
   "display_name": "artefact-hackathon-team-04",
   "language": "python",
   "name": "python3"
  },
  "language_info": {
   "codemirror_mode": {
    "name": "ipython",
    "version": 3
   },
   "file_extension": ".py",
   "mimetype": "text/x-python",
   "name": "python",
   "nbconvert_exporter": "python",
   "pygments_lexer": "ipython3",
   "version": "3.10.14"
  }
 },
 "nbformat": 4,
 "nbformat_minor": 2
}
